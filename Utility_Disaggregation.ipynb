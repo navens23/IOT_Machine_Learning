{
  "nbformat": 4,
  "nbformat_minor": 0,
  "metadata": {
    "colab": {
      "name": "Utility_Disaggregation.ipynb",
      "version": "0.3.2",
      "provenance": [],
      "collapsed_sections": []
    },
    "kernelspec": {
      "name": "python3",
      "display_name": "Python 3"
    },
    "accelerator": "TPU"
  },
  "cells": [
    {
      "metadata": {
        "id": "e5XJsetbtXtY",
        "colab_type": "text"
      },
      "cell_type": "markdown",
      "source": [
        "# Non-Intrusive Load Monitoring Framework"
      ]
    },
    {
      "metadata": {
        "id": "lI-i0G9zaAXm",
        "colab_type": "text"
      },
      "cell_type": "markdown",
      "source": [
        "# Data"
      ]
    },
    {
      "metadata": {
        "id": "9qA7_qXRY7GH",
        "colab_type": "code",
        "outputId": "5fc75f16-a75c-4100-8e80-e8266ea0f03b",
        "colab": {
          "base_uri": "https://localhost:8080/",
          "height": 122
        }
      },
      "cell_type": "code",
      "source": [
        "# Load the Drive helper and mount\n",
        "from google.colab import drive\n",
        "\n",
        "# This will prompt for authorization.\n",
        "drive.mount('/content/drive/')"
      ],
      "execution_count": 0,
      "outputs": [
        {
          "output_type": "stream",
          "text": [
            "Go to this URL in a browser: https://accounts.google.com/o/oauth2/auth?client_id=947318989803-6bn6qk8qdgf4n4g3pfee6491hc0brc4i.apps.googleusercontent.com&redirect_uri=urn%3Aietf%3Awg%3Aoauth%3A2.0%3Aoob&scope=email%20https%3A%2F%2Fwww.googleapis.com%2Fauth%2Fdocs.test%20https%3A%2F%2Fwww.googleapis.com%2Fauth%2Fdrive%20https%3A%2F%2Fwww.googleapis.com%2Fauth%2Fdrive.photos.readonly%20https%3A%2F%2Fwww.googleapis.com%2Fauth%2Fpeopleapi.readonly&response_type=code\n",
            "\n",
            "Enter your authorization code:\n",
            "··········\n",
            "Mounted at /content/drive/\n"
          ],
          "name": "stdout"
        }
      ]
    },
    {
      "metadata": {
        "id": "lZMs4eWPZBIl",
        "colab_type": "code",
        "outputId": "5f8d63de-8ab1-4880-8513-4b18ae432a6a",
        "colab": {
          "base_uri": "https://localhost:8080/",
          "height": 34
        }
      },
      "cell_type": "code",
      "source": [
        "%cd drive/My Drive/Saya"
      ],
      "execution_count": 0,
      "outputs": [
        {
          "output_type": "stream",
          "text": [
            "/content/drive/My Drive/Saya\n"
          ],
          "name": "stdout"
        }
      ]
    },
    {
      "metadata": {
        "id": "rOy1oRJsZ_Yw",
        "colab_type": "code",
        "colab": {}
      },
      "cell_type": "code",
      "source": [
        "ts = pd.read_excel('data/FebMarApr.xlsx')"
      ],
      "execution_count": 0,
      "outputs": []
    },
    {
      "metadata": {
        "id": "ZU9idaPFabIl",
        "colab_type": "code",
        "outputId": "dd9dbd58-a4e7-43dc-9f7f-d1cff9540515",
        "colab": {
          "base_uri": "https://localhost:8080/",
          "height": 309
        }
      },
      "cell_type": "code",
      "source": [
        "ts.head()"
      ],
      "execution_count": 0,
      "outputs": [
        {
          "output_type": "execute_result",
          "data": {
            "text/html": [
              "<div>\n",
              "<style scoped>\n",
              "    .dataframe tbody tr th:only-of-type {\n",
              "        vertical-align: middle;\n",
              "    }\n",
              "\n",
              "    .dataframe tbody tr th {\n",
              "        vertical-align: top;\n",
              "    }\n",
              "\n",
              "    .dataframe thead th {\n",
              "        text-align: right;\n",
              "    }\n",
              "</style>\n",
              "<table border=\"1\" class=\"dataframe\">\n",
              "  <thead>\n",
              "    <tr style=\"text-align: right;\">\n",
              "      <th></th>\n",
              "      <th>CreatedDate</th>\n",
              "      <th>SupplyWaterTemperature</th>\n",
              "      <th>SupplyWaterPressure</th>\n",
              "      <th>BackWaterTemperature</th>\n",
              "      <th>BackWaterPressure</th>\n",
              "      <th>ValveStatus</th>\n",
              "      <th>TotalFlowTotalFlow</th>\n",
              "      <th>Flow</th>\n",
              "      <th>FlowRate</th>\n",
              "      <th>SendInterval</th>\n",
              "    </tr>\n",
              "  </thead>\n",
              "  <tbody>\n",
              "    <tr>\n",
              "      <th>0</th>\n",
              "      <td>2019-02-20 08:00:00</td>\n",
              "      <td>56.084</td>\n",
              "      <td>100.004</td>\n",
              "      <td>0</td>\n",
              "      <td>0</td>\n",
              "      <td>1</td>\n",
              "      <td>8807.76</td>\n",
              "      <td>0.0</td>\n",
              "      <td>0.0</td>\n",
              "      <td>60</td>\n",
              "    </tr>\n",
              "    <tr>\n",
              "      <th>1</th>\n",
              "      <td>2019-02-20 08:01:00</td>\n",
              "      <td>56.084</td>\n",
              "      <td>100.001</td>\n",
              "      <td>0</td>\n",
              "      <td>0</td>\n",
              "      <td>1</td>\n",
              "      <td>8807.76</td>\n",
              "      <td>0.0</td>\n",
              "      <td>0.0</td>\n",
              "      <td>60</td>\n",
              "    </tr>\n",
              "    <tr>\n",
              "      <th>2</th>\n",
              "      <td>2019-02-20 08:02:00</td>\n",
              "      <td>56.084</td>\n",
              "      <td>100.001</td>\n",
              "      <td>0</td>\n",
              "      <td>0</td>\n",
              "      <td>1</td>\n",
              "      <td>8807.76</td>\n",
              "      <td>0.0</td>\n",
              "      <td>0.0</td>\n",
              "      <td>60</td>\n",
              "    </tr>\n",
              "    <tr>\n",
              "      <th>3</th>\n",
              "      <td>2019-02-20 08:03:00</td>\n",
              "      <td>56.084</td>\n",
              "      <td>100.001</td>\n",
              "      <td>0</td>\n",
              "      <td>0</td>\n",
              "      <td>1</td>\n",
              "      <td>8807.76</td>\n",
              "      <td>0.0</td>\n",
              "      <td>0.0</td>\n",
              "      <td>60</td>\n",
              "    </tr>\n",
              "    <tr>\n",
              "      <th>4</th>\n",
              "      <td>2019-02-20 08:04:00</td>\n",
              "      <td>54.734</td>\n",
              "      <td>100.002</td>\n",
              "      <td>0</td>\n",
              "      <td>0</td>\n",
              "      <td>1</td>\n",
              "      <td>8807.76</td>\n",
              "      <td>0.0</td>\n",
              "      <td>0.0</td>\n",
              "      <td>60</td>\n",
              "    </tr>\n",
              "  </tbody>\n",
              "</table>\n",
              "</div>"
            ],
            "text/plain": [
              "          CreatedDate  SupplyWaterTemperature  SupplyWaterPressure  \\\n",
              "0 2019-02-20 08:00:00                  56.084              100.004   \n",
              "1 2019-02-20 08:01:00                  56.084              100.001   \n",
              "2 2019-02-20 08:02:00                  56.084              100.001   \n",
              "3 2019-02-20 08:03:00                  56.084              100.001   \n",
              "4 2019-02-20 08:04:00                  54.734              100.002   \n",
              "\n",
              "   BackWaterTemperature  BackWaterPressure  ValveStatus  TotalFlowTotalFlow  \\\n",
              "0                     0                  0            1             8807.76   \n",
              "1                     0                  0            1             8807.76   \n",
              "2                     0                  0            1             8807.76   \n",
              "3                     0                  0            1             8807.76   \n",
              "4                     0                  0            1             8807.76   \n",
              "\n",
              "   Flow  FlowRate  SendInterval  \n",
              "0   0.0       0.0            60  \n",
              "1   0.0       0.0            60  \n",
              "2   0.0       0.0            60  \n",
              "3   0.0       0.0            60  \n",
              "4   0.0       0.0            60  "
            ]
          },
          "metadata": {
            "tags": []
          },
          "execution_count": 6
        }
      ]
    },
    {
      "metadata": {
        "id": "foV7b9ipaQN9",
        "colab_type": "text"
      },
      "cell_type": "markdown",
      "source": [
        "# Time Series segmentation"
      ]
    },
    {
      "metadata": {
        "id": "pDbLaSryYd6a",
        "colab_type": "code",
        "colab": {}
      },
      "cell_type": "code",
      "source": [
        "%matplotlib inline\n",
        "import matplotlib.pyplot as plt\n",
        "import numpy as np\n",
        "import pandas as pd\n",
        "plt.style.use('ggplot')"
      ],
      "execution_count": 0,
      "outputs": []
    },
    {
      "metadata": {
        "id": "FibKwuqfaYVO",
        "colab_type": "code",
        "outputId": "b8cb4ad6-ac91-4810-c6d3-01dd89b65ada",
        "colab": {
          "base_uri": "https://localhost:8080/",
          "height": 34
        }
      },
      "cell_type": "code",
      "source": [
        "from itertools import islice\n",
        "\n",
        "def window(seq, n=2):\n",
        "    \"Returns a sliding window (of width n) over data from the iterable\"\n",
        "    \"   s -> (s0,s1,...s[n-1]), (s1,s2,...,sn), ...                   \"\n",
        "    it = iter(seq)\n",
        "    result = tuple(islice(it, n))\n",
        "    if len(result) == n:\n",
        "        yield result    \n",
        "    for elem in it:\n",
        "        result = result[1:] + (elem,)\n",
        "        yield result\n",
        "\n",
        "matrix = []\n",
        "\n",
        "for ts_i in window(ts.SupplyWaterPressure, 30):\n",
        "    matrix.append(ts_i)\n",
        "\n",
        "matrix = np.array(matrix)\n",
        "matrix.shape"
      ],
      "execution_count": 0,
      "outputs": [
        {
          "output_type": "execute_result",
          "data": {
            "text/plain": [
              "(58170, 30)"
            ]
          },
          "metadata": {
            "tags": []
          },
          "execution_count": 7
        }
      ]
    },
    {
      "metadata": {
        "id": "BiVFePxmalP8",
        "colab_type": "code",
        "outputId": "5f31c426-a550-4c6f-ad26-7632e33c3ad4",
        "colab": {
          "base_uri": "https://localhost:8080/",
          "height": 34
        }
      },
      "cell_type": "code",
      "source": [
        "dates_matrix = []\n",
        "\n",
        "for time in window(ts.index, 30):\n",
        "    dates_matrix.append(time)\n",
        "    \n",
        "dates_matrix = np.array(dates_matrix)\n",
        "dates_matrix.shape"
      ],
      "execution_count": 0,
      "outputs": [
        {
          "output_type": "execute_result",
          "data": {
            "text/plain": [
              "(58170, 30)"
            ]
          },
          "metadata": {
            "tags": []
          },
          "execution_count": 8
        }
      ]
    },
    {
      "metadata": {
        "id": "XnJazq_Hp2FW",
        "colab_type": "text"
      },
      "cell_type": "markdown",
      "source": [
        "# Make Labels for Segmented Time Series Data According to Given Information\n",
        "\n",
        "\n",
        "\n",
        "\n",
        "*   Shower (Label 1) - This is the smallest amplitude repeating pulse at ??\n",
        "\n",
        "*   Toilet (Label 2) - Runs for a duration of about ?? Starts at the same time everyday.\n",
        "\n",
        "*   Faucet 1 (Label 3) - The most common repeating pulse. (At about ?? amplitude and a width of about ??minutes)\n",
        "*   \n",
        "Faucet 2 (Label 4) - Another repeating pulse but less frequent  (At about ?? amplitude and a width of about ??minutes)\n",
        "\n",
        "\n",
        "\n"
      ]
    },
    {
      "metadata": {
        "id": "5slabMAEp1e1",
        "colab_type": "code",
        "colab": {}
      },
      "cell_type": "code",
      "source": [
        "labels = []\n",
        "for ts_i in matrix:\n",
        "    delta_ts_i = np.diff(ts_i)\n",
        "    if all(ts_i < 80): #Shower\n",
        "        label = 1\n",
        "    elif all((ts_i > 85) & (ts_i < 80)): #Toilets\n",
        "        label = 2\n",
        "    elif all((ts_i > 90) & (ts_i < 85)): #Faucet 1\n",
        "        label = 3\n",
        "    elif any(ts_i > 90): #Faucet 2\n",
        "        label = 4\n",
        "    else: #Other Appliances (Unknown)\n",
        "        label = 5\n",
        "    labels.append(label)\n",
        "labels = np.array(labels)"
      ],
      "execution_count": 0,
      "outputs": []
    },
    {
      "metadata": {
        "id": "l21vYQDUMB4B",
        "colab_type": "code",
        "outputId": "f38f3fee-74c9-496c-aa53-3be636cd104f",
        "colab": {
          "base_uri": "https://localhost:8080/",
          "height": 34
        }
      },
      "cell_type": "code",
      "source": [
        "\n",
        "from collections import Counter\n",
        "d = Counter(labels)\n",
        "print (d)"
      ],
      "execution_count": 0,
      "outputs": [
        {
          "output_type": "stream",
          "text": [
            "Counter({4: 58170})\n"
          ],
          "name": "stdout"
        }
      ]
    },
    {
      "metadata": {
        "id": "2rOutXdbqW2R",
        "colab_type": "text"
      },
      "cell_type": "markdown",
      "source": [
        "# Supervised Learning: Time Series K-Nearest Neighbor Classification"
      ]
    },
    {
      "metadata": {
        "id": "odVcFDiuMPVA",
        "colab_type": "code",
        "colab": {}
      },
      "cell_type": "code",
      "source": [
        "# from sklearn.metrics import classification_report\n",
        "\n",
        "class ts_KnnClassifier(object):\n",
        "    def __init__(self):\n",
        "        '''\n",
        "        preds is a list of predictions that will be made.\n",
        "        plotter indicates whether to plot each nearest neighbor as it is found.\n",
        "        '''\n",
        "        self.preds=[]\n",
        "\n",
        "    def predict(self, X_train, X_test, y_train, w, progress=False):\n",
        "        '''\n",
        "        1-nearest neighbor classification algorithm using LB_Keogh lower \n",
        "        bound as similarity measure. Option to use DTW distance instead\n",
        "        but is much slower.\n",
        "        '''\n",
        "        for i, s1 in enumerate(X_test):\n",
        "            if progress and i % 1000 == 0:\n",
        "                print (str(i+1) + ' points classified')\n",
        "            min_dist = float('inf')\n",
        "            closest_seq_ind = []\n",
        "\n",
        "            for j, s2 in enumerate(X_train):\n",
        "                if self.LB_Keogh(s1, s2, 5) < min_dist:\n",
        "                    dist = self.DTWDistance(s1, s2, w)\n",
        "                    if dist < min_dist:\n",
        "                        min_dist = dist\n",
        "                        closest_seq_ind = j\n",
        "            self.preds.append(y_train[closest_seq_ind])\n",
        "\n",
        "    def performance(self, true_results):\n",
        "        '''\n",
        "        If the actual test set labels are known, can determine classification\n",
        "        accuracy.\n",
        "        '''\n",
        "        return classification_report(true_results, self.preds)\n",
        "\n",
        "    def get_preds(self):\n",
        "        return self.preds\n",
        "\n",
        "    def DTWDistance(self, s1, s2, w=None):\n",
        "        '''\n",
        "        Calculates dynamic time warping Euclidean distance between two\n",
        "        sequences. Option to enforce locality constraint for window w.\n",
        "        '''\n",
        "        DTW={}\n",
        "\n",
        "        if w:\n",
        "            w = max(w, abs(len(s1)-len(s2)))\n",
        "\n",
        "            for i in range(-1,len(s1)):\n",
        "                for j in range(-1,len(s2)):\n",
        "                    DTW[(i, j)] = float('inf')\n",
        "\n",
        "        else:\n",
        "            for i in range(len(s1)):\n",
        "                DTW[(i, -1)] = float('inf')\n",
        "            for i in range(len(s2)):\n",
        "                DTW[(-1, i)] = float('inf')\n",
        "\n",
        "        DTW[(-1, -1)] = 0\n",
        "\n",
        "        for i in range(len(s1)):\n",
        "            if w:\n",
        "                for j in range(max(0, i-w), min(len(s2), i+w)):\n",
        "                    dist= (s1[i] - s2[j])**2\n",
        "                    DTW[(i, j)] = dist + min(DTW[(i-1, j)], DTW[(i, j-1)], DTW[(i-1, j-1)])\n",
        "            else:\n",
        "                for j in range(len(s2)):\n",
        "                    dist= (s1[i] - s2[j])**2\n",
        "                    DTW[(i, j)] = dist + min(DTW[(i-1, j)], DTW[(i, j-1)], DTW[(i-1, j-1)])\n",
        "\n",
        "        return np.sqrt(DTW[len(s1)-1, len(s2)-1])\n",
        "\n",
        "    def LB_Keogh(self,s1,s2,r):\n",
        "        '''\n",
        "        Calculates LB_Keough lower bound to dynamic time warping. Linear\n",
        "        complexity compared to quadratic complexity of dtw.\n",
        "        '''\n",
        "        LB_sum=0\n",
        "        for ind, i in enumerate(s1):\n",
        "\n",
        "            lower_bound=min(s2[(ind-r if ind-r >= 0 else 0):(ind + r)])\n",
        "            upper_bound=max(s2[(ind-r if ind-r >= 0 else 0):(ind + r)])\n",
        "\n",
        "            if i > upper_bound:\n",
        "                LB_sum = LB_sum + (i - upper_bound)**2\n",
        "            elif i < lower_bound:\n",
        "                LB_sum = LB_sum + (i - lower_bound)**2\n",
        "\n",
        "        return np.sqrt(LB_sum)\n"
      ],
      "execution_count": 0,
      "outputs": []
    },
    {
      "metadata": {
        "id": "V8r3J1_eMogR",
        "colab_type": "code",
        "colab": {}
      },
      "cell_type": "code",
      "source": [
        "from sklearn.metrics import f1_score, precision_score, recall_score\n",
        "\n",
        "y_predsCV = []\n",
        "\n",
        "def performTimeSeriesCV(X_train, y_train, number_folds):\n",
        "    \"\"\"\n",
        "    Given X_train and y_train (the test set is excluded from the Cross Validation),\n",
        "    number of folds, the ML algorithm to implement and the parameters to test,\n",
        "    the function acts based on the following logic: it splits X_train and y_train in a\n",
        "    number of folds equal to number_folds. Then train on one fold and tests accuracy\n",
        "    on the consecutive as follows:\n",
        "    - Train on fold 1, test on 2\n",
        "    - Train on fold 1-2, test on 3\n",
        "    - Train on fold 1-2-3, test on 4\n",
        "    ....\n",
        "    Returns mean of test accuracies.\n",
        "    \"\"\"\n",
        "    global y_predsCV\n",
        " \n",
        "    print ('Size train set: ', X_train.shape)\n",
        "    \n",
        "    # k is the size of each fold. It is computed dividing the number of \n",
        "    # rows in X_train by number_folds. This number is floored and coerced to int\n",
        "    k = int(np.floor(float(X_train.shape[0]) / number_folds))\n",
        "    print ('Size of each fold: ', k)\n",
        "    \n",
        "    # initialize to zero the accuracies array. It is important to stress that\n",
        "    # in the CV of Time Series if I have n folds I test n-1 folds as the first\n",
        "    # one is always needed to train\n",
        "    f1_scores = np.zeros(number_folds-1)\n",
        "    precision_scores = np.zeros(number_folds-1)\n",
        "    recall_scores = np.zeros(number_folds-1)\n",
        "    \n",
        " \n",
        "    # loop from the first 2 folds to the total number of folds    \n",
        "    for i in range(2, number_folds + 1):\n",
        "        print ('')\n",
        "        \n",
        "        # the split is the percentage at which to split the folds into train\n",
        "        # and test. For example when i = 2 we are taking the first 2 folds out \n",
        "        # of the total available. In this specific case we have to split the\n",
        "        # two of them in half (train on the first, test on the second), \n",
        "        # so split = 1/2 = 0.5 = 50%. When i = 3 we are taking the first 3 folds \n",
        "        # out of the total available, meaning that we have to split the three of them\n",
        "        # in two at split = 2/3 = 0.66 = 66% (train on the first 2 and test on the\n",
        "        # following)\n",
        "        split = float(i-1)/i\n",
        "        \n",
        "        # example with i = 4 (first 4 folds):\n",
        "        #      Splitting the first       4        chunks at          3      /        4\n",
        "        print ('Splitting the first ' + str(i) + ' chunks at ' + str(i-1) + '/' + str(i) )\n",
        "        \n",
        "        # as we loop over the folds X and y are updated and increase in size.\n",
        "        # This is the data that is going to be split and it increases in size \n",
        "        # in the loop as we account for more folds. If k = 300, with i starting from 2\n",
        "        # the result is the following in the loop\n",
        "        # i = 2\n",
        "        # X = X_train[:(600)]\n",
        "        # y = y_train[:(600)]\n",
        "        #\n",
        "        # i = 3\n",
        "        # X = X_train[:(900)]\n",
        "        # y = y_train[:(900)]\n",
        "        # .... \n",
        "        X = X_train[:(k*i)]\n",
        "        y = y_train[:(k*i)]\n",
        "        print ('Size of train + test: ', X.shape) # the size of the dataframe is going to be k*i\n",
        " \n",
        "        # X and y contain both the folds to train and the fold to test.\n",
        "        # index is the integer telling us where to split, according to the\n",
        "        # split percentage we have set above\n",
        "        index = int(np.floor(X.shape[0] * split))\n",
        "        \n",
        "        # folds used to train the model        \n",
        "        X_trainFolds = X[:index]        \n",
        "        y_trainFolds = y[:index]\n",
        "        \n",
        "        # fold used to test the model\n",
        "        X_testFold = X[(index + 1):]\n",
        "        y_testFold = y[(index + 1):]\n",
        "        \n",
        "        #Classify Test Folds\n",
        "        ts_knn = ts_KnnClassifier()\n",
        "        print ('')\n",
        "        print ('KNN Classifier Is Classifying Data Points')\n",
        "        ts_knn.predict(X_trainFolds, X_testFold, y_trainFolds, w = 10, progress=True)\n",
        "        predictions = ts_knn.get_preds()\n",
        "        y_predsCV.extend(predictions)\n",
        "        \n",
        "        #\n",
        "        \n",
        "        # i starts from 2 so the zeroth element in accuracies array is i-2. performClassification()\n",
        "        #is a function which takes care of a classification problem. This is only an example and \n",
        "        #you can replace this function with whatever ML approach you need.\n",
        "        f1_scores[i-2] = f1_score(y_testFold, predictions, average='weighted')\n",
        "        precision_scores[i-2] =  precision_score(y_testFold, predictions, average='weighted')\n",
        "        recall_scores[i-2] = recall_score(y_testFold, predictions, average='weighted')\n",
        "        \n",
        "        \n",
        "#         # example with i = 4:\n",
        "#         #      Accuracy on fold         4     :    0.85423\n",
        "        print ('F1 Score on fold ' + str(i) + ': ', f1_scores[i-2])\n",
        "        print ('Precision Score on fold ' + str(i) + ': ', precision_scores[i-2])\n",
        "        print ('Recall Score on fold ' + str(i) + ': ', recall_scores[i-2])\n",
        "    \n",
        "    # the function returns the means of the precision_scores, recall scores, and f1_scores on the n-1 folds    \n",
        "    return precision_scores.mean(), recall_scores.mean(), f1_scores.mean()"
      ],
      "execution_count": 0,
      "outputs": []
    },
    {
      "metadata": {
        "id": "ixfBsSyobTRJ",
        "colab_type": "code",
        "outputId": "cb1129a2-1ff8-44f2-d507-044ad88d6826",
        "colab": {
          "base_uri": "https://localhost:8080/"
        }
      },
      "cell_type": "code",
      "source": [
        "X_trainFolds, y_trainFolds, X_testFold, y_testFold = performTimeSeriesCV(matrix, labels, 10)"
      ],
      "execution_count": 0,
      "outputs": [
        {
          "output_type": "stream",
          "text": [
            "Size train set:  (58170, 30)\n",
            "Size of each fold:  5817\n",
            "\n",
            "Splitting the first 2 chunks at 1/2\n",
            "Size of train + test:  (11634, 30)\n",
            "\n",
            "KNN Classifier Is Classifying Data Points\n",
            "1 points classified\n",
            "1001 points classified\n",
            "2001 points classified\n"
          ],
          "name": "stdout"
        }
      ]
    },
    {
      "metadata": {
        "id": "1rNR2Yhyq8lp",
        "colab_type": "code",
        "colab": {}
      },
      "cell_type": "code",
      "source": [
        "\n",
        "ts_knn = ts_KnnClassifier()\n",
        "ts_knn.predict(X_trainFolds, X_testFold, y_trainFolds, w = 10, progress=True)\n",
        "y_pred = ts_knn.get_preds()"
      ],
      "execution_count": 0,
      "outputs": []
    },
    {
      "metadata": {
        "id": "dPjTALcjrA7m",
        "colab_type": "code",
        "colab": {}
      },
      "cell_type": "code",
      "source": [
        "d1 = Counter(y_pred)\n",
        "print d1"
      ],
      "execution_count": 0,
      "outputs": []
    },
    {
      "metadata": {
        "id": "YiefRKgXrBoa",
        "colab_type": "code",
        "colab": {}
      },
      "cell_type": "code",
      "source": [
        "d2 = Counter(y_testFold)\n",
        "print d2"
      ],
      "execution_count": 0,
      "outputs": []
    },
    {
      "metadata": {
        "id": "Tebi4WYVrFDA",
        "colab_type": "code",
        "colab": {}
      },
      "cell_type": "code",
      "source": [
        "print ts_knn.performance(y_testFold)"
      ],
      "execution_count": 0,
      "outputs": []
    },
    {
      "metadata": {
        "id": "Z80A2eXprJfQ",
        "colab_type": "code",
        "colab": {}
      },
      "cell_type": "code",
      "source": [
        "number_folds = 10\n",
        "k = int(np.floor(float(matrix.shape[0]) / number_folds))\n",
        "split = float(2-1)/2\n",
        "X1 = matrix[:(k*2)]\n",
        "y1 = labels[:(k*2)]\n",
        "index = int(np.floor(X1.shape[0] * split))\n",
        "X_trainFolds1 = X1[:index]        \n",
        "y_trainFolds1 = y1[:index]\n",
        "X_testFold1 = X1[(index + 1):]\n",
        "y_testFold1 = y1[(index + 1):]"
      ],
      "execution_count": 0,
      "outputs": []
    },
    {
      "metadata": {
        "id": "dHjMQkEJrKNO",
        "colab_type": "code",
        "colab": {}
      },
      "cell_type": "code",
      "source": [
        "from joblib import Parallel, delayed\n",
        "from copy_reg import pickle\n",
        "from types import MethodType\n",
        "\n",
        "def _pickle_method(method):\n",
        "    func_name = method.im_func.__name__\n",
        "    obj = method.im_self\n",
        "    cls = method.im_class\n",
        "    return _unpickle_method, (func_name, obj, cls)\n",
        "\n",
        "def _unpickle_method(func_name, obj, cls):\n",
        "    for cls in cls.mro():\n",
        "        try:\n",
        "            func = cls.__dict__[func_name]\n",
        "        except KeyError:\n",
        "            pass\n",
        "        else:\n",
        "            break\n",
        "    return func.__get__(obj, cls)\n",
        "\n",
        "pickle(MethodType, _pickle_method, _unpickle_method)\n",
        "Parallel(n_jobs=4)(delayed(ts_knn.predict)(X_trainFolds1, testInstance, y_trainFolds1) for testInstance in X_testFold1)"
      ],
      "execution_count": 0,
      "outputs": []
    },
    {
      "metadata": {
        "id": "3u7odTvsrN2K",
        "colab_type": "code",
        "colab": {}
      },
      "cell_type": "code",
      "source": [
        "def generateApplianceTimeSeries(X_testFold, y_pred):\n",
        "    appliances_ts = [[] for _ in range(1,6)]\n",
        "\n",
        "    #Generate Time Series for Refrigerator Appliance\n",
        "    label = 1\n",
        "    refrigerator_sub = np.array(X_testFold, copy=True)\n",
        "    replacement = np.ones(shape=refrigerator_sub[0].shape)* 300\n",
        "\n",
        "    #Randomnly Sample From A Collection of Refrigerator-Only\n",
        "    #Time Series Segments and assign it to the occurences where\n",
        "    #Not Only A Refrigerator Is On\n",
        "    for i in np.nditer(np.where(y_pred != label)[0]):\n",
        "        arr = refrigerator_sub[y_pred == label]\n",
        "        index_array = np.arange(arr.shape[0])\n",
        "        np.random.shuffle(index_array)\n",
        "        replacement = arr[index_array[0]]\n",
        "        refrigerator_sub[i] = replacement\n",
        "\n",
        "    refrigerator_ts = []\n",
        "    for i in range(len(refrigerator_sub)):\n",
        "        if i == 0:\n",
        "            refrigerator_ts.extend(list(refrigerator_sub[i]))\n",
        "        else:\n",
        "            refrigerator_ts.append(refrigerator_sub[i][-1])\n",
        "\n",
        "    appliances_ts[label - 1] = refrigerator_ts\n",
        "\n",
        "    #Generate Time Series for Non-refrigerator Appliances\n",
        "    for label in range(2,6):\n",
        "        appliance_sub = np.array(X_testFold, copy=True)\n",
        "        replacement = np.zeros(shape=appliance_sub[0].shape)\n",
        "        appliance_sub[y_pred != label] = replacement\n",
        "\n",
        "        appliance_ts = []\n",
        "        for i in range(len(appliance_sub)):\n",
        "            if i == 0:\n",
        "                appliance_ts.extend(list(appliance_sub[i]))\n",
        "            else:\n",
        "                appliance_ts.append(appliance_sub[i][-1])\n",
        "        appliances_ts[label - 1] = appliance_ts\n",
        "\n",
        "    # for ts_i in appliances_ts:\n",
        "    #     print ts_i\n",
        "    \n",
        "    return appliances_ts"
      ],
      "execution_count": 0,
      "outputs": []
    },
    {
      "metadata": {
        "id": "mT-kIUC_Z6b3",
        "colab_type": "code",
        "colab": {}
      },
      "cell_type": "code",
      "source": [
        "appliances_ts = generateApplianceTimeSeries(X_testFold, y_pred)\n"
      ],
      "execution_count": 0,
      "outputs": []
    },
    {
      "metadata": {
        "id": "iO9mgYOXraH4",
        "colab_type": "code",
        "colab": {}
      },
      "cell_type": "code",
      "source": [
        "def convertAppliancesTimeSeriesToDataFrames(appliances_ts, tmpstmp, index=-4486):\n",
        "    appliances = ['Central AC1 (W)', 'Central AC2 (W)', 'Pool Pump (W)', 'Refrigerator (W)']\n",
        "    labels = [2, 3, 1, 0]\n",
        "    ts_dfs = []\n",
        "\n",
        "    for idx, label in enumerate(labels):\n",
        "        s = pd.DataFrame(appliances_ts[label])\n",
        "        s[appliances[idx]] = s[0]\n",
        "        s['timestamp'] = tmpstmp[::60][index:]\n",
        "        s['timestamp'] = pd.to_datetime(s['timestamp'],unit='s')\n",
        "        s.drop(0,axis=1,inplace=True)\n",
        "        s.set_index(keys='timestamp', inplace=True)\n",
        "        s = s.tz_localize('UTC').tz_convert('US/Pacific')\n",
        "        ts_dfs.append(s)\n",
        "    return ts_dfs"
      ],
      "execution_count": 0,
      "outputs": []
    },
    {
      "metadata": {
        "id": "XEa5NuWhrdLq",
        "colab_type": "code",
        "colab": {}
      },
      "cell_type": "code",
      "source": [
        "ts_dfs = convertAppliancesTimeSeriesToDataFrames(appliances_ts, tmpstmp)"
      ],
      "execution_count": 0,
      "outputs": []
    },
    {
      "metadata": {
        "id": "O0YtcTjYQvu8",
        "colab_type": "text"
      },
      "cell_type": "markdown",
      "source": [
        "# Data Visualiztion of Water Consumption Time Series for Individual Applications"
      ]
    },
    {
      "metadata": {
        "id": "arcqwRQBQtD2",
        "colab_type": "code",
        "outputId": "f755568c-f925-44c0-a388-04c19f236777",
        "colab": {
          "base_uri": "https://localhost:8080/",
          "height": 350
        }
      },
      "cell_type": "code",
      "source": [
        "def plotDisAggregatedTimeSeries(ts_dfs):\n",
        "    fig, axes = plt.subplots(nrows=4, ncols=1, figsize=(20,16))\n",
        "    nrow = 0\n",
        "    for s in ts_dfs:\n",
        "        ax=axes[nrow]\n",
        "        s.plot(color='red', ax=ax, alpha=0.55)\n",
        "        ax.set_ylabel('Watts (W)')\n",
        "        nrow += 1\n",
        "    plt.xlabel('Time (min)')\n",
        "    plt.suptitle('Energy Consumption vs. Time')\n",
        "    plt.savefig('Individual-Applications-Time-Series.png')\n",
        "\n",
        "plotDisAggregatedTimeSeries(ts_dfs)"
      ],
      "execution_count": 0,
      "outputs": [
        {
          "output_type": "error",
          "ename": "ValueError",
          "evalue": "ignored",
          "traceback": [
            "\u001b[0;31m---------------------------------------------------------------------------\u001b[0m",
            "\u001b[0;31mValueError\u001b[0m                                Traceback (most recent call last)",
            "\u001b[0;32m<ipython-input-44-888e82a94326>\u001b[0m in \u001b[0;36m<module>\u001b[0;34m()\u001b[0m\n\u001b[1;32m      3\u001b[0m \u001b[0mrcParams\u001b[0m\u001b[0;34m[\u001b[0m\u001b[0;34m'figure.figsize'\u001b[0m\u001b[0;34m]\u001b[0m \u001b[0;34m=\u001b[0m \u001b[0;36m18\u001b[0m\u001b[0;34m,\u001b[0m \u001b[0;36m8\u001b[0m\u001b[0;34m\u001b[0m\u001b[0;34m\u001b[0m\u001b[0m\n\u001b[1;32m      4\u001b[0m \u001b[0;34m\u001b[0m\u001b[0m\n\u001b[0;32m----> 5\u001b[0;31m \u001b[0mdecomposition\u001b[0m \u001b[0;34m=\u001b[0m \u001b[0msm\u001b[0m\u001b[0;34m.\u001b[0m\u001b[0mtsa\u001b[0m\u001b[0;34m.\u001b[0m\u001b[0mseasonal_decompose\u001b[0m\u001b[0;34m(\u001b[0m\u001b[0mdf_flow\u001b[0m\u001b[0;34m,\u001b[0m \u001b[0mmodel\u001b[0m\u001b[0;34m=\u001b[0m\u001b[0;34m'additive'\u001b[0m\u001b[0;34m)\u001b[0m\u001b[0;34m\u001b[0m\u001b[0;34m\u001b[0m\u001b[0m\n\u001b[0m\u001b[1;32m      6\u001b[0m \u001b[0mfig\u001b[0m \u001b[0;34m=\u001b[0m \u001b[0mdecomposition\u001b[0m\u001b[0;34m.\u001b[0m\u001b[0mplot\u001b[0m\u001b[0;34m(\u001b[0m\u001b[0;34m)\u001b[0m\u001b[0;34m\u001b[0m\u001b[0;34m\u001b[0m\u001b[0m\n\u001b[1;32m      7\u001b[0m \u001b[0mplt\u001b[0m\u001b[0;34m.\u001b[0m\u001b[0mshow\u001b[0m\u001b[0;34m(\u001b[0m\u001b[0;34m)\u001b[0m\u001b[0;34m\u001b[0m\u001b[0;34m\u001b[0m\u001b[0m\n",
            "\u001b[0;32m/usr/local/lib/python3.6/dist-packages/statsmodels/tsa/seasonal.py\u001b[0m in \u001b[0;36mseasonal_decompose\u001b[0;34m(x, model, filt, freq, two_sided)\u001b[0m\n\u001b[1;32m     71\u001b[0m \u001b[0;34m\u001b[0m\u001b[0m\n\u001b[1;32m     72\u001b[0m     \u001b[0;32mif\u001b[0m \u001b[0;32mnot\u001b[0m \u001b[0mnp\u001b[0m\u001b[0;34m.\u001b[0m\u001b[0mall\u001b[0m\u001b[0;34m(\u001b[0m\u001b[0mnp\u001b[0m\u001b[0;34m.\u001b[0m\u001b[0misfinite\u001b[0m\u001b[0;34m(\u001b[0m\u001b[0mx\u001b[0m\u001b[0;34m)\u001b[0m\u001b[0;34m)\u001b[0m\u001b[0;34m:\u001b[0m\u001b[0;34m\u001b[0m\u001b[0;34m\u001b[0m\u001b[0m\n\u001b[0;32m---> 73\u001b[0;31m         \u001b[0;32mraise\u001b[0m \u001b[0mValueError\u001b[0m\u001b[0;34m(\u001b[0m\u001b[0;34m\"This function does not handle missing values\"\u001b[0m\u001b[0;34m)\u001b[0m\u001b[0;34m\u001b[0m\u001b[0;34m\u001b[0m\u001b[0m\n\u001b[0m\u001b[1;32m     74\u001b[0m     \u001b[0;32mif\u001b[0m \u001b[0mmodel\u001b[0m\u001b[0;34m.\u001b[0m\u001b[0mstartswith\u001b[0m\u001b[0;34m(\u001b[0m\u001b[0;34m'm'\u001b[0m\u001b[0;34m)\u001b[0m\u001b[0;34m:\u001b[0m\u001b[0;34m\u001b[0m\u001b[0;34m\u001b[0m\u001b[0m\n\u001b[1;32m     75\u001b[0m         \u001b[0;32mif\u001b[0m \u001b[0mnp\u001b[0m\u001b[0;34m.\u001b[0m\u001b[0many\u001b[0m\u001b[0;34m(\u001b[0m\u001b[0mx\u001b[0m \u001b[0;34m<=\u001b[0m \u001b[0;36m0\u001b[0m\u001b[0;34m)\u001b[0m\u001b[0;34m:\u001b[0m\u001b[0;34m\u001b[0m\u001b[0;34m\u001b[0m\u001b[0m\n",
            "\u001b[0;31mValueError\u001b[0m: This function does not handle missing values"
          ]
        }
      ]
    },
    {
      "metadata": {
        "id": "-5nJKyrvtwl5",
        "colab_type": "code",
        "outputId": "6138857c-70f8-42a1-9aeb-04f474a0d17b",
        "colab": {
          "base_uri": "https://localhost:8080/",
          "height": 71
        }
      },
      "cell_type": "code",
      "source": [
        "precision_cv, recall_cv, f1_cv= performTimeSeriesCV(matrix, labels, 10)\n",
        "print \"Precision: %s, Recall: %s, F1 %s: for CV = 10\" %(precision_cv, recall_cv, f1_cv)"
      ],
      "execution_count": 0,
      "outputs": [
        {
          "output_type": "stream",
          "text": [
            "/usr/local/lib/python3.6/dist-packages/statsmodels/compat/pandas.py:56: FutureWarning: The pandas.core.datetools module is deprecated and will be removed in a future version. Please use the pandas.tseries module instead.\n",
            "  from pandas.core import datetools\n"
          ],
          "name": "stderr"
        }
      ]
    },
    {
      "metadata": {
        "id": "8FnXNZ3_uF4x",
        "colab_type": "code",
        "colab": {}
      },
      "cell_type": "code",
      "source": [
        "print classification_report(y_testFold1, y_predsCV)"
      ],
      "execution_count": 0,
      "outputs": []
    },
    {
      "metadata": {
        "id": "XCTjdBvq7e5c",
        "colab_type": "code",
        "colab": {}
      },
      "cell_type": "code",
      "source": [
        ""
      ],
      "execution_count": 0,
      "outputs": []
    }
  ]
}