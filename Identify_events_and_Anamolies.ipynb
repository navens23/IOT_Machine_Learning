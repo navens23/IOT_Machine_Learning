{
  "nbformat": 4,
  "nbformat_minor": 0,
  "metadata": {
    "colab": {
      "name": "Identify_events_and_Anamolies.ipynb",
      "version": "0.3.2",
      "provenance": [],
      "collapsed_sections": []
    },
    "kernelspec": {
      "name": "python3",
      "display_name": "Python 3"
    },
    "accelerator": "GPU"
  },
  "cells": [
    {
      "metadata": {
        "id": "f6YIvytlo48G",
        "colab_type": "code",
        "outputId": "f7098496-41df-44b5-a32b-8e4ef8e9dbf1",
        "colab": {
          "base_uri": "https://localhost:8080/",
          "height": 122
        }
      },
      "cell_type": "code",
      "source": [
        "# Load the Drive helper and mount\n",
        "from google.colab import drive\n",
        "\n",
        "# This will prompt for authorization.\n",
        "drive.mount('/content/drive/')"
      ],
      "execution_count": 0,
      "outputs": [
        {
          "output_type": "stream",
          "text": [
            "Go to this URL in a browser: https://accounts.google.com/o/oauth2/auth?client_id=947318989803-6bn6qk8qdgf4n4g3pfee6491hc0brc4i.apps.googleusercontent.com&redirect_uri=urn%3Aietf%3Awg%3Aoauth%3A2.0%3Aoob&scope=email%20https%3A%2F%2Fwww.googleapis.com%2Fauth%2Fdocs.test%20https%3A%2F%2Fwww.googleapis.com%2Fauth%2Fdrive%20https%3A%2F%2Fwww.googleapis.com%2Fauth%2Fdrive.photos.readonly%20https%3A%2F%2Fwww.googleapis.com%2Fauth%2Fpeopleapi.readonly&response_type=code\n",
            "\n",
            "Enter your authorization code:\n",
            "··········\n",
            "Mounted at /content/drive/\n"
          ],
          "name": "stdout"
        }
      ]
    },
    {
      "metadata": {
        "id": "B4T2sFWBpTrH",
        "colab_type": "code",
        "outputId": "7c31dbf7-9300-4ba1-a03d-5e82b7c68272",
        "colab": {
          "base_uri": "https://localhost:8080/",
          "height": 51
        }
      },
      "cell_type": "code",
      "source": [
        "%cd drive/My Drive/Saya"
      ],
      "execution_count": 93,
      "outputs": [
        {
          "output_type": "stream",
          "text": [
            "[Errno 2] No such file or directory: 'drive/My Drive/Saya'\n",
            "/content/drive/My Drive/Saya\n"
          ],
          "name": "stdout"
        }
      ]
    },
    {
      "metadata": {
        "id": "Ftr8Jpd9rmRB",
        "colab_type": "code",
        "outputId": "fdaba3d4-143c-4642-a85e-84e41925356e",
        "colab": {
          "base_uri": "https://localhost:8080/",
          "height": 34
        }
      },
      "cell_type": "code",
      "source": [
        "%pwd"
      ],
      "execution_count": 167,
      "outputs": [
        {
          "output_type": "execute_result",
          "data": {
            "text/plain": [
              "'/content/drive/My Drive/Saya'"
            ]
          },
          "metadata": {
            "tags": []
          },
          "execution_count": 167
        }
      ]
    },
    {
      "metadata": {
        "id": "ekXVyLL4qFjf",
        "colab_type": "code",
        "colab": {}
      },
      "cell_type": "code",
      "source": [
        "# libraries\n",
        "#%matplotlib notebook\n",
        "\n",
        "import pandas as pd\n",
        "import numpy as np\n",
        "\n",
        "import matplotlib\n",
        "import seaborn\n",
        "import matplotlib.dates as md\n",
        "from matplotlib import pyplot as plt\n",
        "\n",
        "from sklearn import preprocessing\n",
        "from sklearn.decomposition import PCA\n",
        "from sklearn.cluster import KMeans\n",
        "from sklearn.covariance import EllipticEnvelope\n",
        "from sklearn.ensemble import IsolationForest\n",
        "from sklearn.svm import OneClassSVM"
      ],
      "execution_count": 0,
      "outputs": []
    },
    {
      "metadata": {
        "id": "jo7Tk46IlvWj",
        "colab_type": "code",
        "colab": {
          "base_uri": "https://localhost:8080/",
          "height": 163
        },
        "outputId": "210169a0-675d-4ff5-ec23-0fe9dc14f0c4"
      },
      "cell_type": "code",
      "source": [
        "del df"
      ],
      "execution_count": 168,
      "outputs": [
        {
          "output_type": "error",
          "ename": "NameError",
          "evalue": "ignored",
          "traceback": [
            "\u001b[0;31m---------------------------------------------------------------------------\u001b[0m",
            "\u001b[0;31mNameError\u001b[0m                                 Traceback (most recent call last)",
            "\u001b[0;32m<ipython-input-168-b7ec48e0f2bf>\u001b[0m in \u001b[0;36m<module>\u001b[0;34m()\u001b[0m\n\u001b[0;32m----> 1\u001b[0;31m \u001b[0;32mdel\u001b[0m \u001b[0mdf\u001b[0m\u001b[0;34m\u001b[0m\u001b[0;34m\u001b[0m\u001b[0m\n\u001b[0m",
            "\u001b[0;31mNameError\u001b[0m: name 'df' is not defined"
          ]
        }
      ]
    },
    {
      "metadata": {
        "id": "5BbdFW9bpg2Q",
        "colab_type": "code",
        "colab": {}
      },
      "cell_type": "code",
      "source": [
        "df = pd.read_excel('data/FebMarApr.xlsx')"
      ],
      "execution_count": 0,
      "outputs": []
    },
    {
      "metadata": {
        "id": "vE3JUCpNy5qE",
        "colab_type": "code",
        "colab": {}
      },
      "cell_type": "code",
      "source": [
        "# df = pd.read_csv('datafile.csv')"
      ],
      "execution_count": 0,
      "outputs": []
    },
    {
      "metadata": {
        "id": "3y3KcHIKqOSk",
        "colab_type": "code",
        "colab": {}
      },
      "cell_type": "code",
      "source": [
        "df['timestamp'] = pd.to_datetime(df['CreatedDate'])"
      ],
      "execution_count": 0,
      "outputs": []
    },
    {
      "metadata": {
        "id": "kaQL_K8glZM1",
        "colab_type": "code",
        "colab": {
          "base_uri": "https://localhost:8080/",
          "height": 394
        },
        "outputId": "f6f6ab54-610c-4f50-9f71-5f509a6d39e8"
      },
      "cell_type": "code",
      "source": [
        "df.head()"
      ],
      "execution_count": 172,
      "outputs": [
        {
          "output_type": "execute_result",
          "data": {
            "text/html": [
              "<div>\n",
              "<style scoped>\n",
              "    .dataframe tbody tr th:only-of-type {\n",
              "        vertical-align: middle;\n",
              "    }\n",
              "\n",
              "    .dataframe tbody tr th {\n",
              "        vertical-align: top;\n",
              "    }\n",
              "\n",
              "    .dataframe thead th {\n",
              "        text-align: right;\n",
              "    }\n",
              "</style>\n",
              "<table border=\"1\" class=\"dataframe\">\n",
              "  <thead>\n",
              "    <tr style=\"text-align: right;\">\n",
              "      <th></th>\n",
              "      <th>CreatedDate</th>\n",
              "      <th>SupplyWaterTemperature</th>\n",
              "      <th>SupplyWaterPressure</th>\n",
              "      <th>BackWaterTemperature</th>\n",
              "      <th>BackWaterPressure</th>\n",
              "      <th>ValveStatus</th>\n",
              "      <th>TotalFlowTotalFlow</th>\n",
              "      <th>Flow</th>\n",
              "      <th>FlowRate</th>\n",
              "      <th>SendInterval</th>\n",
              "      <th>timestamp</th>\n",
              "    </tr>\n",
              "  </thead>\n",
              "  <tbody>\n",
              "    <tr>\n",
              "      <th>0</th>\n",
              "      <td>2019-02-20 08:00:00</td>\n",
              "      <td>56.084</td>\n",
              "      <td>100.004</td>\n",
              "      <td>0</td>\n",
              "      <td>0</td>\n",
              "      <td>1</td>\n",
              "      <td>8807.76</td>\n",
              "      <td>0.0</td>\n",
              "      <td>0.0</td>\n",
              "      <td>60</td>\n",
              "      <td>2019-02-20 08:00:00</td>\n",
              "    </tr>\n",
              "    <tr>\n",
              "      <th>1</th>\n",
              "      <td>2019-02-20 08:01:00</td>\n",
              "      <td>56.084</td>\n",
              "      <td>100.001</td>\n",
              "      <td>0</td>\n",
              "      <td>0</td>\n",
              "      <td>1</td>\n",
              "      <td>8807.76</td>\n",
              "      <td>0.0</td>\n",
              "      <td>0.0</td>\n",
              "      <td>60</td>\n",
              "      <td>2019-02-20 08:01:00</td>\n",
              "    </tr>\n",
              "    <tr>\n",
              "      <th>2</th>\n",
              "      <td>2019-02-20 08:02:00</td>\n",
              "      <td>56.084</td>\n",
              "      <td>100.001</td>\n",
              "      <td>0</td>\n",
              "      <td>0</td>\n",
              "      <td>1</td>\n",
              "      <td>8807.76</td>\n",
              "      <td>0.0</td>\n",
              "      <td>0.0</td>\n",
              "      <td>60</td>\n",
              "      <td>2019-02-20 08:02:00</td>\n",
              "    </tr>\n",
              "    <tr>\n",
              "      <th>3</th>\n",
              "      <td>2019-02-20 08:03:00</td>\n",
              "      <td>56.084</td>\n",
              "      <td>100.001</td>\n",
              "      <td>0</td>\n",
              "      <td>0</td>\n",
              "      <td>1</td>\n",
              "      <td>8807.76</td>\n",
              "      <td>0.0</td>\n",
              "      <td>0.0</td>\n",
              "      <td>60</td>\n",
              "      <td>2019-02-20 08:03:00</td>\n",
              "    </tr>\n",
              "    <tr>\n",
              "      <th>4</th>\n",
              "      <td>2019-02-20 08:04:00</td>\n",
              "      <td>54.734</td>\n",
              "      <td>100.002</td>\n",
              "      <td>0</td>\n",
              "      <td>0</td>\n",
              "      <td>1</td>\n",
              "      <td>8807.76</td>\n",
              "      <td>0.0</td>\n",
              "      <td>0.0</td>\n",
              "      <td>60</td>\n",
              "      <td>2019-02-20 08:04:00</td>\n",
              "    </tr>\n",
              "  </tbody>\n",
              "</table>\n",
              "</div>"
            ],
            "text/plain": [
              "          CreatedDate  SupplyWaterTemperature  SupplyWaterPressure  \\\n",
              "0 2019-02-20 08:00:00                  56.084              100.004   \n",
              "1 2019-02-20 08:01:00                  56.084              100.001   \n",
              "2 2019-02-20 08:02:00                  56.084              100.001   \n",
              "3 2019-02-20 08:03:00                  56.084              100.001   \n",
              "4 2019-02-20 08:04:00                  54.734              100.002   \n",
              "\n",
              "   BackWaterTemperature  BackWaterPressure  ValveStatus  TotalFlowTotalFlow  \\\n",
              "0                     0                  0            1             8807.76   \n",
              "1                     0                  0            1             8807.76   \n",
              "2                     0                  0            1             8807.76   \n",
              "3                     0                  0            1             8807.76   \n",
              "4                     0                  0            1             8807.76   \n",
              "\n",
              "   Flow  FlowRate  SendInterval           timestamp  \n",
              "0   0.0       0.0            60 2019-02-20 08:00:00  \n",
              "1   0.0       0.0            60 2019-02-20 08:01:00  \n",
              "2   0.0       0.0            60 2019-02-20 08:02:00  \n",
              "3   0.0       0.0            60 2019-02-20 08:03:00  \n",
              "4   0.0       0.0            60 2019-02-20 08:04:00  "
            ]
          },
          "metadata": {
            "tags": []
          },
          "execution_count": 172
        }
      ]
    },
    {
      "metadata": {
        "id": "R8j1EFb5f1G2",
        "colab_type": "code",
        "colab": {
          "base_uri": "https://localhost:8080/",
          "height": 373
        },
        "outputId": "73d66783-0290-4c36-b3ab-5bed1c8d5822"
      },
      "cell_type": "code",
      "source": [
        "df.plot(x='timestamp', y='Flow')"
      ],
      "execution_count": 173,
      "outputs": [
        {
          "output_type": "execute_result",
          "data": {
            "text/plain": [
              "<matplotlib.axes._subplots.AxesSubplot at 0x7f89830c7f98>"
            ]
          },
          "metadata": {
            "tags": []
          },
          "execution_count": 173
        },
        {
          "output_type": "display_data",
          "data": {
            "image/png": "[encoded data removed]",
            "text/plain": [
              "<Figure size 576x396 with 1 Axes>"
            ]
          },
          "metadata": {
            "tags": []
          }
        }
      ]
    },
    {
      "metadata": {
        "id": "mdOANbPQho9P",
        "colab_type": "code",
        "colab": {}
      },
      "cell_type": "code",
      "source": [
        "# the hours and if it's night or day (7:00-22:00)\n",
        "df['hours'] = df['timestamp'].dt.hour\n",
        "df['daylight'] = ((df['hours'] >= 7) & (df['hours'] <= 22)).astype(int)"
      ],
      "execution_count": 0,
      "outputs": []
    },
    {
      "metadata": {
        "id": "p6d1N0zor3UI",
        "colab_type": "code",
        "colab": {}
      },
      "cell_type": "code",
      "source": [
        "df['minute'] = df['timestamp'].dt.minute"
      ],
      "execution_count": 0,
      "outputs": []
    },
    {
      "metadata": {
        "id": "ywDXk7uuiIUU",
        "colab_type": "code",
        "colab": {}
      },
      "cell_type": "code",
      "source": [
        "# the day of the week (Monday=0, Sunday=6) and if it's a week end day or week day.\n",
        "df['DayOfTheWeek'] = df['timestamp'].dt.dayofweek\n",
        "df['WeekDay'] = (df['DayOfTheWeek'] < 5).astype(int)\n",
        "# An estimation of anomly population of the dataset (necessary for several algorithm)\n",
        "outliers_fraction = 0.01"
      ],
      "execution_count": 0,
      "outputs": []
    },
    {
      "metadata": {
        "id": "6DyzNghLiMfu",
        "colab_type": "code",
        "colab": {}
      },
      "cell_type": "code",
      "source": [
        "# time with int to plot easily\n",
        "df['time_epoch'] = (df['timestamp'].astype(np.int64)/100000000000).astype(np.int64)"
      ],
      "execution_count": 0,
      "outputs": []
    },
    {
      "metadata": {
        "id": "9d4sw45gmsvQ",
        "colab_type": "code",
        "colab": {
          "base_uri": "https://localhost:8080/",
          "height": 34
        },
        "outputId": "f126c63b-5bf0-4c72-f3de-2add907d73ee"
      },
      "cell_type": "code",
      "source": [
        "df.shape"
      ],
      "execution_count": 177,
      "outputs": [
        {
          "output_type": "execute_result",
          "data": {
            "text/plain": [
              "(58199, 16)"
            ]
          },
          "metadata": {
            "tags": []
          },
          "execution_count": 177
        }
      ]
    },
    {
      "metadata": {
        "id": "_QJm9GJOiSd3",
        "colab_type": "code",
        "colab": {
          "base_uri": "https://localhost:8080/",
          "height": 347
        },
        "outputId": "fe4b4595-c034-48ef-b0d4-827afadf48db"
      },
      "cell_type": "code",
      "source": [
        "# creation of 4 distinct categories that seem useful (week end/day week & night/day)\n",
        "df['categories'] = df['WeekDay']*2 + df['daylight']\n",
        "\n",
        "a = df.loc[df['categories'] == 0, 'Flow']\n",
        "b = df.loc[df['categories'] == 1, 'Flow']\n",
        "c = df.loc[df['categories'] == 2, 'Flow']\n",
        "d = df.loc[df['categories'] == 3, 'Flow']\n",
        "\n",
        "fig, ax = plt.subplots()\n",
        "a_heights, a_bins = np.histogram(a)\n",
        "b_heights, b_bins = np.histogram(b, bins=a_bins)\n",
        "c_heights, c_bins = np.histogram(c, bins=a_bins)\n",
        "d_heights, d_bins = np.histogram(d, bins=a_bins)\n",
        "\n",
        "width = (a_bins[1] - a_bins[0])/6\n",
        "\n",
        "ax.bar(a_bins[:-1], a_heights*100/a.count(), width=width, facecolor='blue', label='WeekEndNight')\n",
        "ax.bar(b_bins[:-1]+width, (b_heights*100/b.count()), width=width, facecolor='green', label ='WeekEndLight')\n",
        "ax.bar(c_bins[:-1]+width*2, (c_heights*100/c.count()), width=width, facecolor='red', label ='WeekDayNight')\n",
        "ax.bar(d_bins[:-1]+width*3, (d_heights*100/d.count()), width=width, facecolor='black', label ='WeekDayLight')\n",
        "\n",
        "plt.legend()\n",
        "plt.show()"
      ],
      "execution_count": 178,
      "outputs": [
        {
          "output_type": "display_data",
          "data": {
            "image/png": "[encoded data removed]",
            "text/plain": [
              "<Figure size 576x396 with 1 Axes>"
            ]
          },
          "metadata": {
            "tags": []
          }
        }
      ]
    },
    {
      "metadata": {
        "id": "0kOrACj7qfgw",
        "colab_type": "text"
      },
      "cell_type": "markdown",
      "source": [
        "# Clusters"
      ]
    },
    {
      "metadata": {
        "id": "NzK_PliWjvlw",
        "colab_type": "code",
        "colab": {
          "base_uri": "https://localhost:8080/",
          "height": 105
        },
        "outputId": "ec898cf5-b813-418c-9541-6fb242567a4a"
      },
      "cell_type": "code",
      "source": [
        "# Take useful feature and standardize them\n",
        "data = df[['Flow', 'minute', 'daylight', 'DayOfTheWeek', 'WeekDay']]\n",
        "min_max_scaler = preprocessing.StandardScaler()\n",
        "np_scaled = min_max_scaler.fit_transform(data)\n",
        "data = pd.DataFrame(np_scaled)\n",
        "# reduce to 2 importants features\n",
        "pca = PCA(n_components=2)\n",
        "data = pca.fit_transform(data)\n",
        "# standardize these 2 new features\n",
        "min_max_scaler = preprocessing.StandardScaler()\n",
        "np_scaled = min_max_scaler.fit_transform(data)\n",
        "data = pd.DataFrame(np_scaled)"
      ],
      "execution_count": 193,
      "outputs": [
        {
          "output_type": "stream",
          "text": [
            "/usr/local/lib/python3.6/dist-packages/sklearn/preprocessing/data.py:645: DataConversionWarning: Data with input dtype int64, float64 were all converted to float64 by StandardScaler.\n",
            "  return self.partial_fit(X, y)\n",
            "/usr/local/lib/python3.6/dist-packages/sklearn/base.py:464: DataConversionWarning: Data with input dtype int64, float64 were all converted to float64 by StandardScaler.\n",
            "  return self.fit(X, **fit_params).transform(X)\n"
          ],
          "name": "stderr"
        }
      ]
    },
    {
      "metadata": {
        "id": "qKyj37Lhj0SC",
        "colab_type": "code",
        "colab": {
          "base_uri": "https://localhost:8080/",
          "height": 347
        },
        "outputId": "ae2f748d-88d6-4ead-9201-792d4a89913f"
      },
      "cell_type": "code",
      "source": [
        "# calculate with different number of centroids to see the loss plot (elbow method)\n",
        "n_cluster = range(1, 10)\n",
        "kmeans = [KMeans(n_clusters=i).fit(data) for i in n_cluster]\n",
        "scores = [kmeans[i].score(data) for i in range(len(kmeans))]\n",
        "fig, ax = plt.subplots()\n",
        "ax.plot(n_cluster, scores)\n",
        "plt.show()"
      ],
      "execution_count": 194,
      "outputs": [
        {
          "output_type": "display_data",
          "data": {
            "image/png": "[encoded data removed]",
            "text/plain": [
              "<Figure size 576x396 with 1 Axes>"
            ]
          },
          "metadata": {
            "tags": []
          }
        }
      ]
    },
    {
      "metadata": {
        "id": "bpwWJIuEkDi8",
        "colab_type": "code",
        "colab": {
          "base_uri": "https://localhost:8080/",
          "height": 153
        },
        "outputId": "99cc4fd0-9fb6-4e5c-bca6-fe271acac93d"
      },
      "cell_type": "code",
      "source": [
        "df['cluster'] = kmeans[6].predict(data)\n",
        "df['principal_feature1'] = data[0]\n",
        "df['principal_feature2'] = data[1]\n",
        "df['cluster'].value_counts()"
      ],
      "execution_count": 195,
      "outputs": [
        {
          "output_type": "execute_result",
          "data": {
            "text/plain": [
              "1    17398\n",
              "5    11277\n",
              "2    10347\n",
              "0     8489\n",
              "6     5697\n",
              "4     4990\n",
              "3        1\n",
              "Name: cluster, dtype: int64"
            ]
          },
          "metadata": {
            "tags": []
          },
          "execution_count": 195
        }
      ]
    },
    {
      "metadata": {
        "id": "N0WNGy3CkMCN",
        "colab_type": "code",
        "colab": {
          "base_uri": "https://localhost:8080/",
          "height": 347
        },
        "outputId": "bf40d6f0-495b-41c9-87c7-5a7f62b42e12"
      },
      "cell_type": "code",
      "source": [
        "#plot the different clusters with the 2 main features\n",
        "fig, ax = plt.subplots()\n",
        "colors = {0:'red', 1:'blue', 2:'green', 3:'pink', 4:'black', 5:'orange', 6:'cyan'}\n",
        "ax.scatter(df['principal_feature1'], df['principal_feature2'], c=df[\"cluster\"].apply(lambda x: colors[x]))\n",
        "plt.show()"
      ],
      "execution_count": 196,
      "outputs": [
        {
          "output_type": "display_data",
          "data": {
            "image/png": "[encoded data removed]",
            "text/plain": [
              "<Figure size 576x396 with 1 Axes>"
            ]
          },
          "metadata": {
            "tags": []
          }
        }
      ]
    },
    {
      "metadata": {
        "id": "jCXuI6-pnEhq",
        "colab_type": "code",
        "colab": {
          "base_uri": "https://localhost:8080/",
          "height": 71
        },
        "outputId": "3e99b8c3-b685-49cb-e041-a5845b140adf"
      },
      "cell_type": "code",
      "source": [
        "# get the distance between each point and its nearest centroid. The biggest distances are considered as anomaly\n",
        "distance = getDistanceByPoint(data, kmeans[6])\n",
        "number_of_outliers = int(outliers_fraction*len(distance))\n",
        "threshold = distance.nlargest(number_of_outliers).min()\n",
        "# anomaly21 contain the anomaly result of method 2.1 Cluster (0:normal, 1:anomaly) \n",
        "df['anomaly21'] = (distance >= threshold).astype(int)"
      ],
      "execution_count": 198,
      "outputs": [
        {
          "output_type": "stream",
          "text": [
            "/usr/local/lib/python3.6/dist-packages/ipykernel_launcher.py:6: FutureWarning: set_value is deprecated and will be removed in a future release. Please use .at[] or .iat[] accessors instead\n",
            "  \n"
          ],
          "name": "stderr"
        }
      ]
    },
    {
      "metadata": {
        "id": "L41HToPQnJt-",
        "colab_type": "code",
        "colab": {
          "base_uri": "https://localhost:8080/",
          "height": 347
        },
        "outputId": "b0a95118-8f74-4907-b217-e179121876cf"
      },
      "cell_type": "code",
      "source": [
        "# visualisation of anomaly with cluster view\n",
        "fig, ax = plt.subplots()\n",
        "colors = {0:'blue', 1:'red'}\n",
        "ax.scatter(df['principal_feature1'], df['principal_feature2'], c=df[\"anomaly21\"].apply(lambda x: colors[x]))\n",
        "plt.show()"
      ],
      "execution_count": 199,
      "outputs": [
        {
          "output_type": "display_data",
          "data": {
            "image/png": "[encoded data removed]",
            "text/plain": [
              "<Figure size 576x396 with 1 Axes>"
            ]
          },
          "metadata": {
            "tags": []
          }
        }
      ]
    },
    {
      "metadata": {
        "id": "PsbuQ9g8nKkr",
        "colab_type": "code",
        "colab": {
          "base_uri": "https://localhost:8080/",
          "height": 360
        },
        "outputId": "f1e76106-9b6a-49a4-9724-0f0391223f9f"
      },
      "cell_type": "code",
      "source": [
        "# visualisation of anomaly throughout time (viz 1)\n",
        "fig, ax = plt.subplots()\n",
        "\n",
        "a = df.loc[df['anomaly21'] == 1, ['time_epoch', 'Flow']] #anomaly\n",
        "\n",
        "ax.plot(df['time_epoch'], df['Flow'], color='blue')\n",
        "ax.scatter(a['time_epoch'],a['Flow'], color='red')\n",
        "plt.show()"
      ],
      "execution_count": 201,
      "outputs": [
        {
          "output_type": "display_data",
          "data": {
            "image/png": "[encoded data removed]",
            "text/plain": [
              "<Figure size 576x396 with 1 Axes>"
            ]
          },
          "metadata": {
            "tags": []
          }
        }
      ]
    },
    {
      "metadata": {
        "id": "bfOWxOsonPjR",
        "colab_type": "code",
        "colab": {
          "base_uri": "https://localhost:8080/",
          "height": 347
        },
        "outputId": "eec194c0-87a4-4a09-f32c-9a216edea8bb"
      },
      "cell_type": "code",
      "source": [
        "# visualisation of anomaly with temperature repartition (viz 2)\n",
        "a = df.loc[df['anomaly21'] == 0, 'Flow']\n",
        "b = df.loc[df['anomaly21'] == 1, 'Flow']\n",
        "\n",
        "fig, axs = plt.subplots()\n",
        "axs.hist([a,b], bins=32, stacked=True, color=['blue', 'red'], label=['normal', 'anomaly'])\n",
        "plt.legend()\n",
        "plt.show()"
      ],
      "execution_count": 203,
      "outputs": [
        {
          "output_type": "display_data",
          "data": {
            "image/png": "[encoded data removed]",
            "text/plain": [
              "<Figure size 576x396 with 1 Axes>"
            ]
          },
          "metadata": {
            "tags": []
          }
        }
      ]
    },
    {
      "metadata": {
        "id": "QnweIqHZnhbz",
        "colab_type": "text"
      },
      "cell_type": "markdown",
      "source": [
        "# Categories + Gaussian"
      ]
    },
    {
      "metadata": {
        "id": "LKLvZi9RnWVt",
        "colab_type": "code",
        "colab": {}
      },
      "cell_type": "code",
      "source": [
        "# creation of 4 differents data set based on categories defined before\n",
        "df_class0 = df.loc[df['categories'] == 0, 'Flow']\n",
        "df_class1 = df.loc[df['categories'] == 1, 'Flow']\n",
        "df_class2 = df.loc[df['categories'] == 2, 'Flow']\n",
        "df_class3 = df.loc[df['categories'] == 3, 'Flow']"
      ],
      "execution_count": 0,
      "outputs": []
    },
    {
      "metadata": {
        "id": "P1Pi7iXzng0T",
        "colab_type": "code",
        "colab": {
          "base_uri": "https://localhost:8080/",
          "height": 364
        },
        "outputId": "d34d1d8a-7d55-40f6-9580-b32116b75725"
      },
      "cell_type": "code",
      "source": [
        "# plot the temperature repartition by categories\n",
        "fig, axs = plt.subplots(2,2)\n",
        "df_class0.hist(ax=axs[0,0],bins=32)\n",
        "df_class1.hist(ax=axs[0,1],bins=32)\n",
        "df_class2.hist(ax=axs[1,0],bins=32)\n",
        "df_class3.hist(ax=axs[1,1],bins=32)"
      ],
      "execution_count": 206,
      "outputs": [
        {
          "output_type": "execute_result",
          "data": {
            "text/plain": [
              "<matplotlib.axes._subplots.AxesSubplot at 0x7f8981aafda0>"
            ]
          },
          "metadata": {
            "tags": []
          },
          "execution_count": 206
        },
        {
          "output_type": "display_data",
          "data": {
            "image/png": "[encoded data removed]",
            "text/plain": [
              "<Figure size 576x396 with 4 Axes>"
            ]
          },
          "metadata": {
            "tags": []
          }
        }
      ]
    },
    {
      "metadata": {
        "id": "RUVgFPCmnrBT",
        "colab_type": "code",
        "colab": {
          "base_uri": "https://localhost:8080/",
          "height": 588
        },
        "outputId": "c3675f4a-32ba-4fa1-b18a-aff77b7cfc7c"
      },
      "cell_type": "code",
      "source": [
        "# apply ellipticEnvelope(gaussian distribution) at each categories\n",
        "envelope =  EllipticEnvelope(contamination = outliers_fraction) \n",
        "X_train = df_class0.values.reshape(-1,1)\n",
        "envelope.fit(X_train)\n",
        "df_class0 = pd.DataFrame(df_class0)\n",
        "df_class0['deviation'] = envelope.decision_function(X_train)\n",
        "df_class0['anomaly'] = envelope.predict(X_train)\n",
        "\n",
        "envelope =  EllipticEnvelope(contamination = outliers_fraction) \n",
        "X_train = df_class1.values.reshape(-1,1)\n",
        "envelope.fit(X_train)\n",
        "df_class1 = pd.DataFrame(df_class1)\n",
        "df_class1['deviation'] = envelope.decision_function(X_train)\n",
        "df_class1['anomaly'] = envelope.predict(X_train)\n",
        "\n",
        "envelope =  EllipticEnvelope(contamination = outliers_fraction) \n",
        "X_train = df_class2.values.reshape(-1,1)\n",
        "envelope.fit(X_train)\n",
        "df_class2 = pd.DataFrame(df_class2)\n",
        "df_class2['deviation'] = envelope.decision_function(X_train)\n",
        "df_class2['anomaly'] = envelope.predict(X_train)\n",
        "\n",
        "envelope =  EllipticEnvelope(contamination = outliers_fraction) \n",
        "X_train = df_class3.values.reshape(-1,1)\n",
        "envelope.fit(X_train)\n",
        "df_class3 = pd.DataFrame(df_class3)\n",
        "df_class3['deviation'] = envelope.decision_function(X_train)\n",
        "df_class3['anomaly'] = envelope.predict(X_train)"
      ],
      "execution_count": 208,
      "outputs": [
        {
          "output_type": "error",
          "ename": "ValueError",
          "evalue": "ignored",
          "traceback": [
            "\u001b[0;31m---------------------------------------------------------------------------\u001b[0m",
            "\u001b[0;31mValueError\u001b[0m                                Traceback (most recent call last)",
            "\u001b[0;32m<ipython-input-208-d4c2a002e083>\u001b[0m in \u001b[0;36m<module>\u001b[0;34m()\u001b[0m\n\u001b[1;32m      1\u001b[0m \u001b[0menvelope\u001b[0m \u001b[0;34m=\u001b[0m  \u001b[0mEllipticEnvelope\u001b[0m\u001b[0;34m(\u001b[0m\u001b[0mcontamination\u001b[0m \u001b[0;34m=\u001b[0m \u001b[0moutliers_fraction\u001b[0m\u001b[0;34m)\u001b[0m\u001b[0;34m\u001b[0m\u001b[0;34m\u001b[0m\u001b[0m\n\u001b[1;32m      2\u001b[0m \u001b[0mX_train\u001b[0m \u001b[0;34m=\u001b[0m \u001b[0mdf_class0\u001b[0m\u001b[0;34m.\u001b[0m\u001b[0mvalues\u001b[0m\u001b[0;34m.\u001b[0m\u001b[0mreshape\u001b[0m\u001b[0;34m(\u001b[0m\u001b[0;34m-\u001b[0m\u001b[0;36m1\u001b[0m\u001b[0;34m,\u001b[0m\u001b[0;36m1\u001b[0m\u001b[0;34m)\u001b[0m\u001b[0;34m\u001b[0m\u001b[0;34m\u001b[0m\u001b[0m\n\u001b[0;32m----> 3\u001b[0;31m \u001b[0menvelope\u001b[0m\u001b[0;34m.\u001b[0m\u001b[0mfit\u001b[0m\u001b[0;34m(\u001b[0m\u001b[0mX_train\u001b[0m\u001b[0;34m)\u001b[0m\u001b[0;34m\u001b[0m\u001b[0;34m\u001b[0m\u001b[0m\n\u001b[0m\u001b[1;32m      4\u001b[0m \u001b[0mdf_class0\u001b[0m \u001b[0;34m=\u001b[0m \u001b[0mpd\u001b[0m\u001b[0;34m.\u001b[0m\u001b[0mDataFrame\u001b[0m\u001b[0;34m(\u001b[0m\u001b[0mdf_class0\u001b[0m\u001b[0;34m)\u001b[0m\u001b[0;34m\u001b[0m\u001b[0;34m\u001b[0m\u001b[0m\n\u001b[1;32m      5\u001b[0m \u001b[0mdf_class0\u001b[0m\u001b[0;34m[\u001b[0m\u001b[0;34m'deviation'\u001b[0m\u001b[0;34m]\u001b[0m \u001b[0;34m=\u001b[0m \u001b[0menvelope\u001b[0m\u001b[0;34m.\u001b[0m\u001b[0mdecision_function\u001b[0m\u001b[0;34m(\u001b[0m\u001b[0mX_train\u001b[0m\u001b[0;34m)\u001b[0m\u001b[0;34m\u001b[0m\u001b[0;34m\u001b[0m\u001b[0m\n",
            "\u001b[0;32m/usr/local/lib/python3.6/dist-packages/sklearn/covariance/elliptic_envelope.py\u001b[0m in \u001b[0;36mfit\u001b[0;34m(self, X, y)\u001b[0m\n\u001b[1;32m    108\u001b[0m \u001b[0;34m\u001b[0m\u001b[0m\n\u001b[1;32m    109\u001b[0m         \"\"\"\n\u001b[0;32m--> 110\u001b[0;31m         \u001b[0msuper\u001b[0m\u001b[0;34m(\u001b[0m\u001b[0mEllipticEnvelope\u001b[0m\u001b[0;34m,\u001b[0m \u001b[0mself\u001b[0m\u001b[0;34m)\u001b[0m\u001b[0;34m.\u001b[0m\u001b[0mfit\u001b[0m\u001b[0;34m(\u001b[0m\u001b[0mX\u001b[0m\u001b[0;34m)\u001b[0m\u001b[0;34m\u001b[0m\u001b[0;34m\u001b[0m\u001b[0m\n\u001b[0m\u001b[1;32m    111\u001b[0m         \u001b[0mself\u001b[0m\u001b[0;34m.\u001b[0m\u001b[0moffset_\u001b[0m \u001b[0;34m=\u001b[0m \u001b[0mnp\u001b[0m\u001b[0;34m.\u001b[0m\u001b[0mpercentile\u001b[0m\u001b[0;34m(\u001b[0m\u001b[0;34m-\u001b[0m\u001b[0mself\u001b[0m\u001b[0;34m.\u001b[0m\u001b[0mdist_\u001b[0m\u001b[0;34m,\u001b[0m \u001b[0;36m100.\u001b[0m \u001b[0;34m*\u001b[0m \u001b[0mself\u001b[0m\u001b[0;34m.\u001b[0m\u001b[0mcontamination\u001b[0m\u001b[0;34m)\u001b[0m\u001b[0;34m\u001b[0m\u001b[0;34m\u001b[0m\u001b[0m\n\u001b[1;32m    112\u001b[0m         \u001b[0;32mreturn\u001b[0m \u001b[0mself\u001b[0m\u001b[0;34m\u001b[0m\u001b[0;34m\u001b[0m\u001b[0m\n",
            "\u001b[0;32m/usr/local/lib/python3.6/dist-packages/sklearn/covariance/robust_covariance.py\u001b[0m in \u001b[0;36mfit\u001b[0;34m(self, X, y)\u001b[0m\n\u001b[1;32m    665\u001b[0m         \u001b[0mself\u001b[0m\u001b[0;34m.\u001b[0m\u001b[0mdist_\u001b[0m \u001b[0;34m=\u001b[0m \u001b[0mraw_dist\u001b[0m\u001b[0;34m\u001b[0m\u001b[0;34m\u001b[0m\u001b[0m\n\u001b[1;32m    666\u001b[0m         \u001b[0;31m# obtain consistency at normal models\u001b[0m\u001b[0;34m\u001b[0m\u001b[0;34m\u001b[0m\u001b[0;34m\u001b[0m\u001b[0m\n\u001b[0;32m--> 667\u001b[0;31m         \u001b[0mself\u001b[0m\u001b[0;34m.\u001b[0m\u001b[0mcorrect_covariance\u001b[0m\u001b[0;34m(\u001b[0m\u001b[0mX\u001b[0m\u001b[0;34m)\u001b[0m\u001b[0;34m\u001b[0m\u001b[0;34m\u001b[0m\u001b[0m\n\u001b[0m\u001b[1;32m    668\u001b[0m         \u001b[0;31m# re-weight estimator\u001b[0m\u001b[0;34m\u001b[0m\u001b[0;34m\u001b[0m\u001b[0;34m\u001b[0m\u001b[0m\n\u001b[1;32m    669\u001b[0m         \u001b[0mself\u001b[0m\u001b[0;34m.\u001b[0m\u001b[0mreweight_covariance\u001b[0m\u001b[0;34m(\u001b[0m\u001b[0mX\u001b[0m\u001b[0;34m)\u001b[0m\u001b[0;34m\u001b[0m\u001b[0;34m\u001b[0m\u001b[0m\n",
            "\u001b[0;32m/usr/local/lib/python3.6/dist-packages/sklearn/covariance/robust_covariance.py\u001b[0m in \u001b[0;36mcorrect_covariance\u001b[0;34m(self, data)\u001b[0m\n\u001b[1;32m    703\u001b[0m         \u001b[0mn_support\u001b[0m \u001b[0;34m=\u001b[0m \u001b[0mnp\u001b[0m\u001b[0;34m.\u001b[0m\u001b[0msum\u001b[0m\u001b[0;34m(\u001b[0m\u001b[0mself\u001b[0m\u001b[0;34m.\u001b[0m\u001b[0msupport_\u001b[0m\u001b[0;34m)\u001b[0m\u001b[0;34m\u001b[0m\u001b[0;34m\u001b[0m\u001b[0m\n\u001b[1;32m    704\u001b[0m         \u001b[0;32mif\u001b[0m \u001b[0mn_support\u001b[0m \u001b[0;34m<\u001b[0m \u001b[0mn_samples\u001b[0m \u001b[0;32mand\u001b[0m \u001b[0mnp\u001b[0m\u001b[0;34m.\u001b[0m\u001b[0mallclose\u001b[0m\u001b[0;34m(\u001b[0m\u001b[0mself\u001b[0m\u001b[0;34m.\u001b[0m\u001b[0mraw_covariance_\u001b[0m\u001b[0;34m,\u001b[0m \u001b[0;36m0\u001b[0m\u001b[0;34m)\u001b[0m\u001b[0;34m:\u001b[0m\u001b[0;34m\u001b[0m\u001b[0;34m\u001b[0m\u001b[0m\n\u001b[0;32m--> 705\u001b[0;31m             raise ValueError('The covariance matrix of the support data '\n\u001b[0m\u001b[1;32m    706\u001b[0m                              'is equal to 0, try to increase support_fraction')\n\u001b[1;32m    707\u001b[0m         \u001b[0mcorrection\u001b[0m \u001b[0;34m=\u001b[0m \u001b[0mnp\u001b[0m\u001b[0;34m.\u001b[0m\u001b[0mmedian\u001b[0m\u001b[0;34m(\u001b[0m\u001b[0mself\u001b[0m\u001b[0;34m.\u001b[0m\u001b[0mdist_\u001b[0m\u001b[0;34m)\u001b[0m \u001b[0;34m/\u001b[0m \u001b[0mchi2\u001b[0m\u001b[0;34m(\u001b[0m\u001b[0mdata\u001b[0m\u001b[0;34m.\u001b[0m\u001b[0mshape\u001b[0m\u001b[0;34m[\u001b[0m\u001b[0;36m1\u001b[0m\u001b[0;34m]\u001b[0m\u001b[0;34m)\u001b[0m\u001b[0;34m.\u001b[0m\u001b[0misf\u001b[0m\u001b[0;34m(\u001b[0m\u001b[0;36m0.5\u001b[0m\u001b[0;34m)\u001b[0m\u001b[0;34m\u001b[0m\u001b[0;34m\u001b[0m\u001b[0m\n",
            "\u001b[0;31mValueError\u001b[0m: The covariance matrix of the support data is equal to 0, try to increase support_fraction"
          ]
        }
      ]
    },
    {
      "metadata": {
        "id": "DP7MOW-InyXk",
        "colab_type": "code",
        "colab": {}
      },
      "cell_type": "code",
      "source": [
        "# plot the temperature repartition by categories with anomalies\n",
        "a0 = df_class0.loc[df_class0['anomaly'] == 1, 'Flow']\n",
        "b0 = df_class0.loc[df_class0['anomaly'] == -1, 'Flow']\n",
        "\n",
        "a1 = df_class1.loc[df_class1['anomaly'] == 1, 'Flow']\n",
        "b1 = df_class1.loc[df_class1['anomaly'] == -1, 'Flow']\n",
        "\n",
        "a2 = df_class2.loc[df_class2['anomaly'] == 1, 'Flow']\n",
        "b2 = df_class2.loc[df_class2['anomaly'] == -1, 'Flow']\n",
        "\n",
        "a3 = df_class3.loc[df_class3['anomaly'] == 1, 'Flow']\n",
        "b3 = df_class3.loc[df_class3['anomaly'] == -1, 'Flow']\n",
        "\n",
        "fig, axs = plt.subplots(2,2)\n",
        "axs[0,0].hist([a0,b0], bins=32, stacked=True, color=['blue', 'red'], label=['normal', 'anomaly'])\n",
        "axs[0,1].hist([a1,b1], bins=32, stacked=True, color=['blue', 'red'], label=['normal', 'anomaly'])\n",
        "axs[1,0].hist([a2,b2], bins=32, stacked=True, color=['blue', 'red'], label=['normal', 'anomaly'])\n",
        "axs[1,1].hist([a3,b3], bins=32, stacked=True, color=['blue', 'red'], label=['normal', 'anomaly'])\n",
        "axs[0,0].set_title(\"WeekEndNight\")\n",
        "axs[0,1].set_title(\"WeekEndLight\")\n",
        "axs[1,0].set_title(\"WeekDayNight\")\n",
        "axs[1,1].set_title(\"WeekDayLight\")\n",
        "plt.legend()\n",
        "plt.show()"
      ],
      "execution_count": 0,
      "outputs": []
    },
    {
      "metadata": {
        "id": "vEXh_mWQn4Ly",
        "colab_type": "code",
        "colab": {}
      },
      "cell_type": "code",
      "source": [
        "# add the data to the main \n",
        "df_class = pd.concat([df_class0, df_class1, df_class2, df_class3])\n",
        "df['anomaly22'] = df_class['anomaly']\n",
        "df['anomaly22'] = np.array(df['anomaly22'] == -1).astype(int) "
      ],
      "execution_count": 0,
      "outputs": []
    },
    {
      "metadata": {
        "id": "A-T87jNTn8Ai",
        "colab_type": "code",
        "colab": {}
      },
      "cell_type": "code",
      "source": [
        "# visualisation of anomaly throughout time (viz 1)\n",
        "fig, ax = plt.subplots()\n",
        "\n",
        "a = df.loc[df['anomaly22'] == 1, ('time_epoch', 'value')] #anomaly\n",
        "\n",
        "ax.plot(df['time_epoch'], df['value'], color='blue')\n",
        "ax.scatter(a['time_epoch'],a['value'], color='red')\n",
        "plt.show()"
      ],
      "execution_count": 0,
      "outputs": []
    },
    {
      "metadata": {
        "id": "VsbCn0htoBvI",
        "colab_type": "code",
        "colab": {}
      },
      "cell_type": "code",
      "source": [
        "# visualisation of anomaly with temperature repartition (viz 2)\n",
        "a = df.loc[df['anomaly22'] == 0, 'value']\n",
        "b = df.loc[df['anomaly22'] == 1, 'value']\n",
        "\n",
        "fig, axs = plt.subplots()\n",
        "axs.hist([a,b], bins=32, stacked=True, color=['blue', 'red'], label=['normal', 'anomaly'])\n",
        "plt.legend()\n",
        "plt.show()"
      ],
      "execution_count": 0,
      "outputs": []
    },
    {
      "metadata": {
        "id": "VUtA6ulAoCiP",
        "colab_type": "text"
      },
      "cell_type": "markdown",
      "source": [
        "# Markov chains"
      ]
    },
    {
      "metadata": {
        "id": "eMTzCCbioSPv",
        "colab_type": "text"
      },
      "cell_type": "markdown",
      "source": [
        "We need discretize the data points in define states for markov chain. We will just take 'value' to define state for this example and define 5 levels of value (very low, low, average, high, very high)/(VL, L, A, H, VH). Markov chain will calculate the probability of sequence like (VL, L, L, A, A, L, A). If the probability is very weak we consider the sequence as an anomaly."
      ]
    },
    {
      "metadata": {
        "id": "VKS9HNSPoHMv",
        "colab_type": "code",
        "colab": {}
      },
      "cell_type": "code",
      "source": [
        "# definition of the different state\n",
        "x1 = (df['Flow'] <=18).astype(int)\n",
        "x2= ((df['Flow'] > 18) & (df['Flow']<=21)).astype(int)\n",
        "x3 = ((df['Flow'] > 21) & (df['Flow']<=24)).astype(int)\n",
        "x4 = ((df['Flow'] > 24) & (df['Flow']<=27)).astype(int)\n",
        "x5 = (df['Flow'] >27).astype(int)\n",
        "df_mm = x1 + 2*x2 + 3*x3 + 4*x4 + 5*x5\n",
        "\n",
        "# getting the anomaly labels for our dataset (evaluating sequence of 5 values and anomaly = less than 20% probable)\n",
        "# I USE pyemma NOT AVAILABLE IN KAGGLE KERNEL\n",
        "#df_anomaly = markovAnomaly(df_mm, 5, 0.20)\n",
        "#df_anomaly = pd.Series(df_anomaly)\n",
        "#print(df_anomaly.value_counts())"
      ],
      "execution_count": 0,
      "outputs": []
    },
    {
      "metadata": {
        "id": "Yx5hEKAaLXD1",
        "colab_type": "code",
        "colab": {
          "base_uri": "https://localhost:8080/",
          "height": 68
        },
        "outputId": "37235821-6d59-4b9c-b353-bd1ee9129890"
      },
      "cell_type": "code",
      "source": [
        "!pip install pyemma "
      ],
      "execution_count": 215,
      "outputs": [
        {
          "output_type": "stream",
          "text": [
            "Collecting pyemma\n",
            "  Using cached https://files.pythonhosted.org/packages/16/67/b086d88f3fdda0263856214dc53484299c0576d749256771b7f15513dcf8/pyEMMA-2.5.5.tar.gz\n",
            "\u001b[31mOperation cancelled by user\u001b[0m\n"
          ],
          "name": "stdout"
        }
      ]
    },
    {
      "metadata": {
        "id": "oaE5LwASLFSB",
        "colab_type": "code",
        "colab": {
          "base_uri": "https://localhost:8080/",
          "height": 435
        },
        "outputId": "f0588bd7-ed3e-45c0-de20-8eff1d908b97"
      },
      "cell_type": "code",
      "source": [
        "df_anomaly = markovAnomaly(df_mm, 5, 0.20)\n",
        "df_anomaly = pd.Series(df_anomaly)\n",
        "print(df_anomaly.value_counts())"
      ],
      "execution_count": 213,
      "outputs": [
        {
          "output_type": "error",
          "ename": "NameError",
          "evalue": "ignored",
          "traceback": [
            "\u001b[0;31m---------------------------------------------------------------------------\u001b[0m",
            "\u001b[0;31mNameError\u001b[0m                                 Traceback (most recent call last)",
            "\u001b[0;32m<ipython-input-213-8e2c78ac2ec8>\u001b[0m in \u001b[0;36m<module>\u001b[0;34m()\u001b[0m\n\u001b[0;32m----> 1\u001b[0;31m \u001b[0mdf_anomaly\u001b[0m \u001b[0;34m=\u001b[0m \u001b[0mmarkovAnomaly\u001b[0m\u001b[0;34m(\u001b[0m\u001b[0mdf_mm\u001b[0m\u001b[0;34m,\u001b[0m \u001b[0;36m5\u001b[0m\u001b[0;34m,\u001b[0m \u001b[0;36m0.20\u001b[0m\u001b[0;34m)\u001b[0m\u001b[0;34m\u001b[0m\u001b[0;34m\u001b[0m\u001b[0m\n\u001b[0m\u001b[1;32m      2\u001b[0m \u001b[0mdf_anomaly\u001b[0m \u001b[0;34m=\u001b[0m \u001b[0mpd\u001b[0m\u001b[0;34m.\u001b[0m\u001b[0mSeries\u001b[0m\u001b[0;34m(\u001b[0m\u001b[0mdf_anomaly\u001b[0m\u001b[0;34m)\u001b[0m\u001b[0;34m\u001b[0m\u001b[0;34m\u001b[0m\u001b[0m\n\u001b[1;32m      3\u001b[0m \u001b[0mprint\u001b[0m\u001b[0;34m(\u001b[0m\u001b[0mdf_anomaly\u001b[0m\u001b[0;34m.\u001b[0m\u001b[0mvalue_counts\u001b[0m\u001b[0;34m(\u001b[0m\u001b[0;34m)\u001b[0m\u001b[0;34m)\u001b[0m\u001b[0;34m\u001b[0m\u001b[0;34m\u001b[0m\u001b[0m\n",
            "\u001b[0;32m<ipython-input-99-55d9d99bb571>\u001b[0m in \u001b[0;36mmarkovAnomaly\u001b[0;34m(df, windows_size, threshold)\u001b[0m\n\u001b[1;32m     14\u001b[0m \u001b[0;34m\u001b[0m\u001b[0m\n\u001b[1;32m     15\u001b[0m \u001b[0;32mdef\u001b[0m \u001b[0mmarkovAnomaly\u001b[0m\u001b[0;34m(\u001b[0m\u001b[0mdf\u001b[0m\u001b[0;34m,\u001b[0m \u001b[0mwindows_size\u001b[0m\u001b[0;34m,\u001b[0m \u001b[0mthreshold\u001b[0m\u001b[0;34m)\u001b[0m\u001b[0;34m:\u001b[0m\u001b[0;34m\u001b[0m\u001b[0;34m\u001b[0m\u001b[0m\n\u001b[0;32m---> 16\u001b[0;31m     \u001b[0mtransition_matrix\u001b[0m \u001b[0;34m=\u001b[0m \u001b[0mgetTransitionMatrix\u001b[0m\u001b[0;34m(\u001b[0m\u001b[0mdf\u001b[0m\u001b[0;34m)\u001b[0m\u001b[0;34m\u001b[0m\u001b[0;34m\u001b[0m\u001b[0m\n\u001b[0m\u001b[1;32m     17\u001b[0m     \u001b[0mreal_threshold\u001b[0m \u001b[0;34m=\u001b[0m \u001b[0mthreshold\u001b[0m\u001b[0;34m**\u001b[0m\u001b[0mwindows_size\u001b[0m\u001b[0;34m\u001b[0m\u001b[0;34m\u001b[0m\u001b[0m\n\u001b[1;32m     18\u001b[0m     \u001b[0mdf_anomaly\u001b[0m \u001b[0;34m=\u001b[0m \u001b[0;34m[\u001b[0m\u001b[0;34m]\u001b[0m\u001b[0;34m\u001b[0m\u001b[0;34m\u001b[0m\u001b[0m\n",
            "\u001b[0;32m<ipython-input-99-55d9d99bb571>\u001b[0m in \u001b[0;36mgetTransitionMatrix\u001b[0;34m(df)\u001b[0m\n\u001b[1;32m     10\u001b[0m \u001b[0;32mdef\u001b[0m \u001b[0mgetTransitionMatrix\u001b[0m \u001b[0;34m(\u001b[0m\u001b[0mdf\u001b[0m\u001b[0;34m)\u001b[0m\u001b[0;34m:\u001b[0m\u001b[0;34m\u001b[0m\u001b[0;34m\u001b[0m\u001b[0m\n\u001b[1;32m     11\u001b[0m         \u001b[0mdf\u001b[0m \u001b[0;34m=\u001b[0m \u001b[0mnp\u001b[0m\u001b[0;34m.\u001b[0m\u001b[0marray\u001b[0m\u001b[0;34m(\u001b[0m\u001b[0mdf\u001b[0m\u001b[0;34m)\u001b[0m\u001b[0;34m\u001b[0m\u001b[0;34m\u001b[0m\u001b[0m\n\u001b[0;32m---> 12\u001b[0;31m         \u001b[0mmodel\u001b[0m \u001b[0;34m=\u001b[0m \u001b[0mmsm\u001b[0m\u001b[0;34m.\u001b[0m\u001b[0mestimate_markov_model\u001b[0m\u001b[0;34m(\u001b[0m\u001b[0mdf\u001b[0m\u001b[0;34m,\u001b[0m \u001b[0;36m1\u001b[0m\u001b[0;34m)\u001b[0m\u001b[0;34m\u001b[0m\u001b[0;34m\u001b[0m\u001b[0m\n\u001b[0m\u001b[1;32m     13\u001b[0m         \u001b[0;32mreturn\u001b[0m \u001b[0mmodel\u001b[0m\u001b[0;34m.\u001b[0m\u001b[0mtransition_matrix\u001b[0m\u001b[0;34m\u001b[0m\u001b[0;34m\u001b[0m\u001b[0m\n\u001b[1;32m     14\u001b[0m \u001b[0;34m\u001b[0m\u001b[0m\n",
            "\u001b[0;31mNameError\u001b[0m: name 'msm' is not defined"
          ]
        }
      ]
    },
    {
      "metadata": {
        "id": "8rC_AxR-LE-J",
        "colab_type": "code",
        "colab": {}
      },
      "cell_type": "code",
      "source": [
        ""
      ],
      "execution_count": 0,
      "outputs": []
    },
    {
      "metadata": {
        "id": "wTSeWlRhoTOx",
        "colab_type": "code",
        "colab": {
          "base_uri": "https://localhost:8080/",
          "height": 231
        },
        "outputId": "f92f3cd8-f641-441b-d337-3d9a706e667d"
      },
      "cell_type": "code",
      "source": [
        "# add the data to the main \n",
        "df['anomaly24'] = df_anomaly\n",
        "\n",
        "# visualisation of anomaly throughout time (viz 1)\n",
        "fig, ax = plt.subplots()\n",
        "\n",
        "a = df.loc[df['anomaly24'] == 1, ('time_epoch', 'Flow')] #anomaly\n",
        "\n",
        "ax.plot(df['time_epoch'], df['Flow'], color='blue')\n",
        "ax.scatter(a['time_epoch'],a['Flow'], color='red')\n",
        "plt.show()"
      ],
      "execution_count": 212,
      "outputs": [
        {
          "output_type": "error",
          "ename": "NameError",
          "evalue": "ignored",
          "traceback": [
            "\u001b[0;31m---------------------------------------------------------------------------\u001b[0m",
            "\u001b[0;31mNameError\u001b[0m                                 Traceback (most recent call last)",
            "\u001b[0;32m<ipython-input-212-dc250389f402>\u001b[0m in \u001b[0;36m<module>\u001b[0;34m()\u001b[0m\n\u001b[0;32m----> 1\u001b[0;31m \u001b[0mdf\u001b[0m\u001b[0;34m[\u001b[0m\u001b[0;34m'anomaly24'\u001b[0m\u001b[0;34m]\u001b[0m \u001b[0;34m=\u001b[0m \u001b[0mdf_anomaly\u001b[0m\u001b[0;34m\u001b[0m\u001b[0;34m\u001b[0m\u001b[0m\n\u001b[0m\u001b[1;32m      2\u001b[0m \u001b[0;34m\u001b[0m\u001b[0m\n\u001b[1;32m      3\u001b[0m \u001b[0;31m# visualisation of anomaly throughout time (viz 1)\u001b[0m\u001b[0;34m\u001b[0m\u001b[0;34m\u001b[0m\u001b[0;34m\u001b[0m\u001b[0m\n\u001b[1;32m      4\u001b[0m \u001b[0mfig\u001b[0m\u001b[0;34m,\u001b[0m \u001b[0max\u001b[0m \u001b[0;34m=\u001b[0m \u001b[0mplt\u001b[0m\u001b[0;34m.\u001b[0m\u001b[0msubplots\u001b[0m\u001b[0;34m(\u001b[0m\u001b[0;34m)\u001b[0m\u001b[0;34m\u001b[0m\u001b[0;34m\u001b[0m\u001b[0m\n\u001b[1;32m      5\u001b[0m \u001b[0;34m\u001b[0m\u001b[0m\n",
            "\u001b[0;31mNameError\u001b[0m: name 'df_anomaly' is not defined"
          ]
        }
      ]
    },
    {
      "metadata": {
        "id": "MHF5dXsQodTQ",
        "colab_type": "code",
        "colab": {}
      },
      "cell_type": "code",
      "source": [
        "# visualisation of anomaly with temperature repartition (viz 2)\n",
        "a = df.loc[df['anomaly24'] == 0, 'value']\n",
        "b = df.loc[df['anomaly24'] == 1, 'value']\n",
        "\n",
        "fig, axs = plt.subplots()\n",
        "axs.hist([a,b], bins=32, stacked=True, color=['blue', 'red'])\n",
        "plt.legend()\n",
        "plt.show()"
      ],
      "execution_count": 0,
      "outputs": []
    },
    {
      "metadata": {
        "id": "o9TI8aLwohEF",
        "colab_type": "text"
      },
      "cell_type": "markdown",
      "source": [
        "# Isolation Forest"
      ]
    },
    {
      "metadata": {
        "id": "W0CqdTgtogsD",
        "colab_type": "code",
        "colab": {
          "base_uri": "https://localhost:8080/",
          "height": 224
        },
        "outputId": "0f961868-ee12-4b83-b142-fe463845516c"
      },
      "cell_type": "code",
      "source": [
        "# Take useful feature and standardize them \n",
        "data = df[['Flow', 'minute', 'daylight', 'DayOfTheWeek', 'WeekDay']]\n",
        "min_max_scaler = preprocessing.StandardScaler()\n",
        "np_scaled = min_max_scaler.fit_transform(data)\n",
        "data = pd.DataFrame(np_scaled)\n",
        "# train isolation forest \n",
        "model =  IsolationForest(contamination = outliers_fraction)\n",
        "model.fit(data)\n",
        "# add the data to the main  \n",
        "df['anomaly25'] = pd.Series(model.predict(data))\n",
        "df['anomaly25'] = df['anomaly25'].map( {1: 0, -1: 1} )\n",
        "print(df['anomaly25'].value_counts())"
      ],
      "execution_count": 216,
      "outputs": [
        {
          "output_type": "stream",
          "text": [
            "/usr/local/lib/python3.6/dist-packages/sklearn/preprocessing/data.py:645: DataConversionWarning: Data with input dtype int64, float64 were all converted to float64 by StandardScaler.\n",
            "  return self.partial_fit(X, y)\n",
            "/usr/local/lib/python3.6/dist-packages/sklearn/base.py:464: DataConversionWarning: Data with input dtype int64, float64 were all converted to float64 by StandardScaler.\n",
            "  return self.fit(X, **fit_params).transform(X)\n",
            "/usr/local/lib/python3.6/dist-packages/sklearn/ensemble/iforest.py:223: FutureWarning: behaviour=\"old\" is deprecated and will be removed in version 0.22. Please use behaviour=\"new\", which makes the decision_function change to match other anomaly detection algorithm API.\n",
            "  FutureWarning)\n",
            "/usr/local/lib/python3.6/dist-packages/sklearn/ensemble/iforest.py:417: DeprecationWarning: threshold_ attribute is deprecated in 0.20 and will be removed in 0.22.\n",
            "  \" be removed in 0.22.\", DeprecationWarning)\n"
          ],
          "name": "stderr"
        },
        {
          "output_type": "stream",
          "text": [
            "0    57617\n",
            "1      582\n",
            "Name: anomaly25, dtype: int64\n"
          ],
          "name": "stdout"
        }
      ]
    },
    {
      "metadata": {
        "id": "w1tunmDFonzG",
        "colab_type": "code",
        "colab": {
          "base_uri": "https://localhost:8080/",
          "height": 360
        },
        "outputId": "742532ff-ed58-4482-e77c-0a072c214e06"
      },
      "cell_type": "code",
      "source": [
        "# visualisation of anomaly throughout time (viz 1)\n",
        "fig, ax = plt.subplots()\n",
        "\n",
        "a = df.loc[df['anomaly25'] == 1, ['time_epoch', 'Flow']] #anomaly\n",
        "\n",
        "ax.plot(df['time_epoch'], df['Flow'], color='blue')\n",
        "ax.scatter(a['time_epoch'],a['Flow'], color='red')\n",
        "plt.show()"
      ],
      "execution_count": 217,
      "outputs": [
        {
          "output_type": "display_data",
          "data": {
            "image/png": "[encoded data removed]",
            "text/plain": [
              "<Figure size 576x396 with 1 Axes>"
            ]
          },
          "metadata": {
            "tags": []
          }
        }
      ]
    },
    {
      "metadata": {
        "id": "lN-Lh41Ioqsj",
        "colab_type": "code",
        "colab": {
          "base_uri": "https://localhost:8080/",
          "height": 347
        },
        "outputId": "2e8f1cf8-8401-43b3-f8f6-46dac5748aa8"
      },
      "cell_type": "code",
      "source": [
        "# visualisation of anomaly with temperature repartition (viz 2)\n",
        "a = df.loc[df['anomaly25'] == 0, 'Flow']\n",
        "b = df.loc[df['anomaly25'] == 1, 'Flow']\n",
        "\n",
        "fig, axs = plt.subplots()\n",
        "axs.hist([a,b], bins=32, stacked=True, color=['blue', 'red'], label = ['normal', 'anomaly'])\n",
        "plt.legend()\n",
        "plt.show()"
      ],
      "execution_count": 218,
      "outputs": [
        {
          "output_type": "display_data",
          "data": {
            "image/png": "[encoded data removed]",
            "text/plain": [
              "<Figure size 576x396 with 1 Axes>"
            ]
          },
          "metadata": {
            "tags": []
          }
        }
      ]
    },
    {
      "metadata": {
        "id": "nL-RhWBRo3ft",
        "colab_type": "text"
      },
      "cell_type": "markdown",
      "source": [
        "# SVM"
      ]
    },
    {
      "metadata": {
        "id": "RlN_TZDBotQF",
        "colab_type": "code",
        "colab": {
          "base_uri": "https://localhost:8080/",
          "height": 156
        },
        "outputId": "919fc595-2fed-4ff1-cc89-1242e9f0dcf2"
      },
      "cell_type": "code",
      "source": [
        "# Take useful feature and standardize them \n",
        "data = df[['Flow', 'minute', 'daylight', 'DayOfTheWeek', 'WeekDay']]\n",
        "min_max_scaler = preprocessing.StandardScaler()\n",
        "np_scaled = min_max_scaler.fit_transform(data)\n",
        "# train one class SVM \n",
        "model =  OneClassSVM(nu=0.95 * outliers_fraction) #nu=0.95 * outliers_fraction  + 0.05\n",
        "data = pd.DataFrame(np_scaled)\n",
        "model.fit(data)\n",
        "# add the data to the main  \n",
        "df['anomaly26'] = pd.Series(model.predict(data))\n",
        "df['anomaly26'] = df['anomaly26'].map( {1: 0, -1: 1} )\n",
        "print(df['anomaly26'].value_counts())"
      ],
      "execution_count": 220,
      "outputs": [
        {
          "output_type": "stream",
          "text": [
            "/usr/local/lib/python3.6/dist-packages/sklearn/preprocessing/data.py:645: DataConversionWarning: Data with input dtype int64, float64 were all converted to float64 by StandardScaler.\n",
            "  return self.partial_fit(X, y)\n",
            "/usr/local/lib/python3.6/dist-packages/sklearn/base.py:464: DataConversionWarning: Data with input dtype int64, float64 were all converted to float64 by StandardScaler.\n",
            "  return self.fit(X, **fit_params).transform(X)\n"
          ],
          "name": "stderr"
        },
        {
          "output_type": "stream",
          "text": [
            "0    57662\n",
            "1      537\n",
            "Name: anomaly26, dtype: int64\n"
          ],
          "name": "stdout"
        }
      ]
    },
    {
      "metadata": {
        "id": "abExEX1fo73H",
        "colab_type": "code",
        "colab": {
          "base_uri": "https://localhost:8080/",
          "height": 360
        },
        "outputId": "2eb4fe5b-ecd3-4aed-df92-0e33966cf923"
      },
      "cell_type": "code",
      "source": [
        "# visualisation of anomaly throughout time (viz 1)\n",
        "fig, ax = plt.subplots()\n",
        "\n",
        "a = df.loc[df['anomaly26'] == 1, ['time_epoch', 'Flow']] #anomaly\n",
        "\n",
        "ax.plot(df['time_epoch'], df['Flow'], color='blue')\n",
        "ax.scatter(a['time_epoch'],a['Flow'], color='red')\n",
        "plt.show()"
      ],
      "execution_count": 221,
      "outputs": [
        {
          "output_type": "display_data",
          "data": {
            "image/png": "[encoded data removed]",
            "text/plain": [
              "<Figure size 576x396 with 1 Axes>"
            ]
          },
          "metadata": {
            "tags": []
          }
        }
      ]
    },
    {
      "metadata": {
        "id": "O-YnqnZto-jM",
        "colab_type": "code",
        "colab": {
          "base_uri": "https://localhost:8080/",
          "height": 347
        },
        "outputId": "3ef0bfea-1ac8-469d-de33-c3a6c88aade2"
      },
      "cell_type": "code",
      "source": [
        "# visualisation of anomaly with temperature repartition (viz 2)\n",
        "a = df.loc[df['anomaly26'] == 0, 'Flow']\n",
        "b = df.loc[df['anomaly26'] == 1, 'Flow']\n",
        "\n",
        "fig, axs = plt.subplots()\n",
        "axs.hist([a,b], bins=32, stacked=True, color=['blue', 'red'], label=['normal', 'anomaly'])\n",
        "plt.legend()\n",
        "plt.show()"
      ],
      "execution_count": 222,
      "outputs": [
        {
          "output_type": "display_data",
          "data": {
            "image/png": "[encoded data removed]",
            "text/plain": [
              "<Figure size 576x396 with 1 Axes>"
            ]
          },
          "metadata": {
            "tags": []
          }
        }
      ]
    },
    {
      "metadata": {
        "id": "03kSdv_xMM8q",
        "colab_type": "text"
      },
      "cell_type": "markdown",
      "source": [
        "# LSTM"
      ]
    },
    {
      "metadata": {
        "id": "SjRRA9mepBeY",
        "colab_type": "code",
        "colab": {
          "base_uri": "https://localhost:8080/",
          "height": 207
        },
        "outputId": "3c1bcd37-41c7-48cf-9427-b58fcb498ab1"
      },
      "cell_type": "code",
      "source": [
        "#select and standardize data\n",
        "data_n = df[['Flow', 'minute', 'daylight', 'DayOfTheWeek', 'WeekDay']]\n",
        "min_max_scaler = preprocessing.StandardScaler()\n",
        "np_scaled = min_max_scaler.fit_transform(data_n)\n",
        "data_n = pd.DataFrame(np_scaled)\n",
        "\n",
        "# important parameters and train/test size\n",
        "prediction_time = 1 \n",
        "testdatasize = 1000\n",
        "unroll_length = 50\n",
        "testdatacut = testdatasize + unroll_length  + 1\n",
        "\n",
        "#train data\n",
        "x_train = data_n[0:-prediction_time-testdatacut].as_matrix()\n",
        "y_train = data_n[prediction_time:-testdatacut  ][0].as_matrix()\n",
        "\n",
        "# test data\n",
        "x_test = data_n[0-testdatacut:-prediction_time].as_matrix()\n",
        "y_test = data_n[prediction_time-testdatacut:  ][0].as_matrix()"
      ],
      "execution_count": 223,
      "outputs": [
        {
          "output_type": "stream",
          "text": [
            "/usr/local/lib/python3.6/dist-packages/sklearn/preprocessing/data.py:645: DataConversionWarning: Data with input dtype int64, float64 were all converted to float64 by StandardScaler.\n",
            "  return self.partial_fit(X, y)\n",
            "/usr/local/lib/python3.6/dist-packages/sklearn/base.py:464: DataConversionWarning: Data with input dtype int64, float64 were all converted to float64 by StandardScaler.\n",
            "  return self.fit(X, **fit_params).transform(X)\n",
            "/usr/local/lib/python3.6/dist-packages/ipykernel_launcher.py:13: FutureWarning: Method .as_matrix will be removed in a future version. Use .values instead.\n",
            "  del sys.path[0]\n",
            "/usr/local/lib/python3.6/dist-packages/ipykernel_launcher.py:14: FutureWarning: Method .as_matrix will be removed in a future version. Use .values instead.\n",
            "  \n",
            "/usr/local/lib/python3.6/dist-packages/ipykernel_launcher.py:17: FutureWarning: Method .as_matrix will be removed in a future version. Use .values instead.\n",
            "/usr/local/lib/python3.6/dist-packages/ipykernel_launcher.py:18: FutureWarning: Method .as_matrix will be removed in a future version. Use .values instead.\n"
          ],
          "name": "stderr"
        }
      ]
    },
    {
      "metadata": {
        "id": "x7XrL7AhMWpC",
        "colab_type": "code",
        "colab": {
          "base_uri": "https://localhost:8080/",
          "height": 85
        },
        "outputId": "00f947db-ed7c-46b0-d0c3-11b1bcd0bf3f"
      },
      "cell_type": "code",
      "source": [
        "#unroll: create sequence of 50 previous data points for each data points\n",
        "def unroll(data,sequence_length=24):\n",
        "    result = []\n",
        "    for index in range(len(data) - sequence_length):\n",
        "        result.append(data[index: index + sequence_length])\n",
        "    return np.asarray(result)\n",
        "\n",
        "# adapt the datasets for the sequence data shape\n",
        "x_train = unroll(x_train,unroll_length)\n",
        "x_test  = unroll(x_test,unroll_length)\n",
        "y_train = y_train[-x_train.shape[0]:]\n",
        "y_test  = y_test[-x_test.shape[0]:]\n",
        "\n",
        "# see the shape\n",
        "print(\"x_train\", x_train.shape)\n",
        "print(\"y_train\", y_train.shape)\n",
        "print(\"x_test\", x_test.shape)\n",
        "print(\"y_test\", y_test.shape)"
      ],
      "execution_count": 224,
      "outputs": [
        {
          "output_type": "stream",
          "text": [
            "x_train (57097, 50, 5)\n",
            "y_train (57097,)\n",
            "x_test (1000, 50, 5)\n",
            "y_test (1000,)\n"
          ],
          "name": "stdout"
        }
      ]
    },
    {
      "metadata": {
        "id": "ePmNDYJxMYnb",
        "colab_type": "code",
        "colab": {
          "base_uri": "https://localhost:8080/",
          "height": 34
        },
        "outputId": "7313076a-0880-45bb-c0e4-a0f1bc502a74"
      },
      "cell_type": "code",
      "source": [
        "# specific libraries for RNN\n",
        "# keras is a high layer build on Tensorflow layer to stay in high level/easy implementation\n",
        "from keras.layers.core import Dense, Activation, Dropout\n",
        "from keras.layers.recurrent import LSTM\n",
        "from keras.models import Sequential\n",
        "import time #helper libraries\n",
        "from keras.models import model_from_json\n",
        "import sys"
      ],
      "execution_count": 225,
      "outputs": [
        {
          "output_type": "stream",
          "text": [
            "Using TensorFlow backend.\n"
          ],
          "name": "stderr"
        }
      ]
    },
    {
      "metadata": {
        "id": "LOGOgjPZMf2W",
        "colab_type": "code",
        "colab": {
          "base_uri": "https://localhost:8080/",
          "height": 224
        },
        "outputId": "f925c085-00b0-4b22-dc3c-7b9c6e3f211b"
      },
      "cell_type": "code",
      "source": [
        "# Build the model\n",
        "model = Sequential()\n",
        "\n",
        "model.add(LSTM(\n",
        "    input_dim=x_train.shape[-1],\n",
        "    output_dim=50,\n",
        "    return_sequences=True))\n",
        "model.add(Dropout(0.2))\n",
        "\n",
        "model.add(LSTM(\n",
        "    100,\n",
        "    return_sequences=False))\n",
        "model.add(Dropout(0.2))\n",
        "\n",
        "model.add(Dense(\n",
        "    units=1))\n",
        "model.add(Activation('linear'))\n",
        "\n",
        "start = time.time()\n",
        "model.compile(loss='mse', optimizer='rmsprop')\n",
        "print('compilation time : {}'.format(time.time() - start))"
      ],
      "execution_count": 226,
      "outputs": [
        {
          "output_type": "stream",
          "text": [
            "WARNING:tensorflow:From /usr/local/lib/python3.6/dist-packages/tensorflow/python/framework/op_def_library.py:263: colocate_with (from tensorflow.python.framework.ops) is deprecated and will be removed in a future version.\n",
            "Instructions for updating:\n",
            "Colocations handled automatically by placer.\n"
          ],
          "name": "stdout"
        },
        {
          "output_type": "stream",
          "text": [
            "/usr/local/lib/python3.6/dist-packages/ipykernel_launcher.py:6: UserWarning: The `input_dim` and `input_length` arguments in recurrent layers are deprecated. Use `input_shape` instead.\n",
            "  \n",
            "/usr/local/lib/python3.6/dist-packages/ipykernel_launcher.py:6: UserWarning: Update your `LSTM` call to the Keras 2 API: `LSTM(return_sequences=True, input_shape=(None, 5), units=50)`\n",
            "  \n"
          ],
          "name": "stderr"
        },
        {
          "output_type": "stream",
          "text": [
            "WARNING:tensorflow:From /usr/local/lib/python3.6/dist-packages/keras/backend/tensorflow_backend.py:3445: calling dropout (from tensorflow.python.ops.nn_ops) with keep_prob is deprecated and will be removed in a future version.\n",
            "Instructions for updating:\n",
            "Please use `rate` instead of `keep_prob`. Rate should be set to `rate = 1 - keep_prob`.\n",
            "compilation time : 0.027189254760742188\n"
          ],
          "name": "stdout"
        }
      ]
    },
    {
      "metadata": {
        "id": "xEYE-a5aMpB6",
        "colab_type": "code",
        "colab": {
          "base_uri": "https://localhost:8080/",
          "height": 1176
        },
        "outputId": "2de7495f-1ecc-479a-eb76-6f574f35e674"
      },
      "cell_type": "code",
      "source": [
        "# Train the model\n",
        "#nb_epoch = 350\n",
        "\n",
        "model.fit(\n",
        "    x_train,\n",
        "    y_train,\n",
        "    batch_size=3028,\n",
        "    nb_epoch=30,\n",
        "    validation_split=0.1)"
      ],
      "execution_count": 227,
      "outputs": [
        {
          "output_type": "stream",
          "text": [
            "WARNING:tensorflow:From /usr/local/lib/python3.6/dist-packages/tensorflow/python/ops/math_ops.py:3066: to_int32 (from tensorflow.python.ops.math_ops) is deprecated and will be removed in a future version.\n",
            "Instructions for updating:\n",
            "Use tf.cast instead.\n"
          ],
          "name": "stdout"
        },
        {
          "output_type": "stream",
          "text": [
            "/usr/local/lib/python3.6/dist-packages/ipykernel_launcher.py:7: UserWarning: The `nb_epoch` argument in `fit` has been renamed `epochs`.\n",
            "  import sys\n"
          ],
          "name": "stderr"
        },
        {
          "output_type": "stream",
          "text": [
            "Train on 51387 samples, validate on 5710 samples\n",
            "Epoch 1/30\n",
            "51387/51387 [==============================] - 10s 185us/step - loss: 1.1372 - val_loss: 0.0082\n",
            "Epoch 2/30\n",
            "51387/51387 [==============================] - 6s 113us/step - loss: 1.1326 - val_loss: 0.0116\n",
            "Epoch 3/30\n",
            "51387/51387 [==============================] - 6s 112us/step - loss: 1.1337 - val_loss: 0.0074\n",
            "Epoch 4/30\n",
            "51387/51387 [==============================] - 6s 112us/step - loss: 1.1318 - val_loss: 0.0087\n",
            "Epoch 5/30\n",
            "51387/51387 [==============================] - 6s 112us/step - loss: 1.1320 - val_loss: 0.0070\n",
            "Epoch 6/30\n",
            "51387/51387 [==============================] - 6s 113us/step - loss: 1.1316 - val_loss: 0.0067\n",
            "Epoch 7/30\n",
            "51387/51387 [==============================] - 6s 112us/step - loss: 1.1308 - val_loss: 0.0066\n",
            "Epoch 8/30\n",
            "51387/51387 [==============================] - 6s 113us/step - loss: 1.1313 - val_loss: 0.0065\n",
            "Epoch 9/30\n",
            "51387/51387 [==============================] - 6s 112us/step - loss: 1.1306 - val_loss: 0.0064\n",
            "Epoch 10/30\n",
            "51387/51387 [==============================] - 6s 112us/step - loss: 1.1308 - val_loss: 0.0064\n",
            "Epoch 11/30\n",
            "51387/51387 [==============================] - 6s 113us/step - loss: 1.1306 - val_loss: 0.0063\n",
            "Epoch 12/30\n",
            "51387/51387 [==============================] - 6s 112us/step - loss: 1.1302 - val_loss: 0.0063\n",
            "Epoch 13/30\n",
            "51387/51387 [==============================] - 6s 112us/step - loss: 1.1309 - val_loss: 0.0062\n",
            "Epoch 14/30\n",
            "51387/51387 [==============================] - 6s 113us/step - loss: 1.1299 - val_loss: 0.0062\n",
            "Epoch 15/30\n",
            "51387/51387 [==============================] - 6s 112us/step - loss: 1.1303 - val_loss: 0.0061\n",
            "Epoch 16/30\n",
            "51387/51387 [==============================] - 6s 113us/step - loss: 1.1301 - val_loss: 0.0061\n",
            "Epoch 17/30\n",
            "51387/51387 [==============================] - 6s 112us/step - loss: 1.1305 - val_loss: 0.0061\n",
            "Epoch 18/30\n",
            "51387/51387 [==============================] - 6s 113us/step - loss: 1.1299 - val_loss: 0.0065\n",
            "Epoch 19/30\n",
            "51387/51387 [==============================] - 6s 114us/step - loss: 1.1298 - val_loss: 0.0060\n",
            "Epoch 20/30\n",
            "51387/51387 [==============================] - 6s 113us/step - loss: 1.1301 - val_loss: 0.0060\n",
            "Epoch 21/30\n",
            "51387/51387 [==============================] - 6s 113us/step - loss: 1.1298 - val_loss: 0.0060\n",
            "Epoch 22/30\n",
            "51387/51387 [==============================] - 6s 110us/step - loss: 1.1302 - val_loss: 0.0063\n",
            "Epoch 23/30\n",
            "51387/51387 [==============================] - 6s 113us/step - loss: 1.1295 - val_loss: 0.0062\n",
            "Epoch 24/30\n",
            "51387/51387 [==============================] - 6s 113us/step - loss: 1.1298 - val_loss: 0.0058\n",
            "Epoch 25/30\n",
            "51387/51387 [==============================] - 6s 113us/step - loss: 1.1298 - val_loss: 0.0058\n",
            "Epoch 26/30\n",
            "51387/51387 [==============================] - 6s 113us/step - loss: 1.1298 - val_loss: 0.0058\n",
            "Epoch 27/30\n",
            "51387/51387 [==============================] - 6s 111us/step - loss: 1.1298 - val_loss: 0.0058\n",
            "Epoch 28/30\n",
            "51387/51387 [==============================] - 6s 109us/step - loss: 1.1296 - val_loss: 0.0058\n",
            "Epoch 29/30\n",
            "51387/51387 [==============================] - 6s 112us/step - loss: 1.1297 - val_loss: 0.0058\n",
            "Epoch 30/30\n",
            "51387/51387 [==============================] - 6s 113us/step - loss: 1.1292 - val_loss: 0.0058\n"
          ],
          "name": "stdout"
        },
        {
          "output_type": "execute_result",
          "data": {
            "text/plain": [
              "<keras.callbacks.History at 0x7f8988f7e898>"
            ]
          },
          "metadata": {
            "tags": []
          },
          "execution_count": 227
        }
      ]
    },
    {
      "metadata": {
        "id": "lhROIbX4M8cP",
        "colab_type": "code",
        "colab": {}
      },
      "cell_type": "code",
      "source": [
        "# create the list of difference between prediction and test data\n",
        "loaded_model = model\n",
        "diff=[]\n",
        "ratio=[]\n",
        "p = loaded_model.predict(x_test)\n",
        "# predictions = lstm.predict_sequences_multiple(loaded_model, x_test, 50, 50)\n",
        "for u in range(len(y_test)):\n",
        "    pr = p[u][0]\n",
        "    ratio.append((y_test[u]/pr)-1)\n",
        "    diff.append(abs(y_test[u]- pr))"
      ],
      "execution_count": 0,
      "outputs": []
    },
    {
      "metadata": {
        "id": "4d50jf2CM9sD",
        "colab_type": "code",
        "colab": {
          "base_uri": "https://localhost:8080/",
          "height": 347
        },
        "outputId": "d0760b56-431c-42c7-bfd0-2fd0df24cb19"
      },
      "cell_type": "code",
      "source": [
        "# plot the prediction and the reality (for the test data)\n",
        "fig, axs = plt.subplots()\n",
        "axs.plot(p,color='red', label='prediction')\n",
        "axs.plot(y_test,color='blue', label='y_test')\n",
        "plt.legend(loc='upper left')\n",
        "plt.show()"
      ],
      "execution_count": 229,
      "outputs": [
        {
          "output_type": "display_data",
          "data": {
            "image/png": "[encoded data removed]",
            "text/plain": [
              "<Figure size 576x396 with 1 Axes>"
            ]
          },
          "metadata": {
            "tags": []
          }
        }
      ]
    },
    {
      "metadata": {
        "id": "omO_QctENIf-",
        "colab_type": "code",
        "colab": {
          "base_uri": "https://localhost:8080/",
          "height": 68
        },
        "outputId": "6a9fd104-b66e-41ac-ac5e-828e6f42bdd8"
      },
      "cell_type": "code",
      "source": [
        "# select the most distant prediction/reality data points as anomalies\n",
        "diff = pd.Series(diff)\n",
        "number_of_outliers = int(outliers_fraction*len(diff))\n",
        "threshold = diff.nlargest(number_of_outliers).min()\n",
        "# data with anomaly label (test data part)\n",
        "test = (diff >= threshold).astype(int)\n",
        "# the training data part where we didn't predict anything (overfitting possible): no anomaly\n",
        "complement = pd.Series(0, index=np.arange(len(data_n)-testdatasize))\n",
        "# # add the data to the main\n",
        "df['anomaly27'] = complement.append(test, ignore_index='True')\n",
        "print(df['anomaly27'].value_counts())"
      ],
      "execution_count": 230,
      "outputs": [
        {
          "output_type": "stream",
          "text": [
            "0    58189\n",
            "1       10\n",
            "Name: anomaly27, dtype: int64\n"
          ],
          "name": "stdout"
        }
      ]
    },
    {
      "metadata": {
        "id": "WOL63hVXNKCX",
        "colab_type": "code",
        "colab": {
          "base_uri": "https://localhost:8080/",
          "height": 364
        },
        "outputId": "3dff84c7-0154-4042-b572-343c65162c97"
      },
      "cell_type": "code",
      "source": [
        "# visualisation of anomaly throughout time (viz 1)\n",
        "fig, ax = plt.subplots()\n",
        "\n",
        "a = df.loc[df['anomaly27'] == 1, ['time_epoch', 'Flow']] #anomaly\n",
        "\n",
        "ax.plot(df['time_epoch'], df['Flow'], color='blue')\n",
        "ax.scatter(a['time_epoch'],a['Flow'], color='red')\n",
        "plt.axis([1.370*1e7, 1.405*1e7, 15,30])\n",
        "plt.show()"
      ],
      "execution_count": 231,
      "outputs": [
        {
          "output_type": "display_data",
          "data": {
            "image/png": "[encoded data removed]",
            "text/plain": [
              "<Figure size 576x396 with 1 Axes>"
            ]
          },
          "metadata": {
            "tags": []
          }
        }
      ]
    },
    {
      "metadata": {
        "id": "o8TOi4jNNPPy",
        "colab_type": "code",
        "colab": {
          "base_uri": "https://localhost:8080/",
          "height": 364
        },
        "outputId": "66d33f7d-731c-48bf-fbc2-61522b214901"
      },
      "cell_type": "code",
      "source": [
        "# visualisation of anomaly with temperature repartition (viz 2)\n",
        "a = df.loc[df['anomaly27'] == 0, 'Flow']\n",
        "b = df.loc[df['anomaly27'] == 1, 'Flow']\n",
        "\n",
        "fig, axs = plt.subplots()\n",
        "axs.hist([a,b], bins=32, stacked=True, color=['blue', 'red'])\n",
        "plt.legend()\n",
        "plt.show()"
      ],
      "execution_count": 232,
      "outputs": [
        {
          "output_type": "stream",
          "text": [
            "No handles with labels found to put in legend.\n"
          ],
          "name": "stderr"
        },
        {
          "output_type": "display_data",
          "data": {
            "image/png": "[encoded data removed]",
            "text/plain": [
              "<Figure size 576x396 with 1 Axes>"
            ]
          },
          "metadata": {
            "tags": []
          }
        }
      ]
    },
    {
      "metadata": {
        "id": "DxcHklZLtYo6",
        "colab_type": "code",
        "colab": {}
      },
      "cell_type": "code",
      "source": [
        "def clean_dataset(df):\n",
        "    assert isinstance(df, pd.DataFrame), \"df needs to be a pd.DataFrame\"\n",
        "    df.dropna(inplace=True)\n",
        "    indices_to_keep = ~df.isin([np.nan, np.inf, -np.inf]).any(1)\n",
        "    return df[indices_to_keep].astype(np.float64)"
      ],
      "execution_count": 0,
      "outputs": []
    },
    {
      "metadata": {
        "id": "E_voX0yntqut",
        "colab_type": "code",
        "colab": {}
      },
      "cell_type": "code",
      "source": [
        "# marchdf = marchdf[marchdf[\"Flow\"] > 0]\n",
        "X = clean_dataset(marchdf[['Flow','SupplyWaterPressure','SupplyWaterTemperature']])"
      ],
      "execution_count": 0,
      "outputs": []
    },
    {
      "metadata": {
        "id": "0frbIwXyfRlk",
        "colab_type": "code",
        "colab": {}
      },
      "cell_type": "code",
      "source": [
        "# return Series of distance between each point and his distance with the closest centroid\n",
        "def getDistanceByPoint(data, model):\n",
        "    distance = pd.Series()\n",
        "    for i in range(0,len(data)):\n",
        "        Xa = np.array(data.loc[i])\n",
        "        Xb = model.cluster_centers_[model.labels_[i]-1]\n",
        "        distance.set_value(i, np.linalg.norm(Xa-Xb))\n",
        "    return distance\n",
        "\n",
        "# train markov model to get transition matrix\n",
        "def getTransitionMatrix (df):\n",
        "\tdf = np.array(df)\n",
        "\tmodel = msm.estimate_markov_model(df, 1)\n",
        "\treturn model.transition_matrix\n",
        "\n",
        "def markovAnomaly(df, windows_size, threshold):\n",
        "    transition_matrix = getTransitionMatrix(df)\n",
        "    real_threshold = threshold**windows_size\n",
        "    df_anomaly = []\n",
        "    for j in range(0, len(df)):\n",
        "        if (j < windows_size):\n",
        "            df_anomaly.append(0)\n",
        "        else:\n",
        "            sequence = df[j-windows_size:j]\n",
        "            sequence = sequence.reset_index(drop=True)\n",
        "            df_anomaly.append(anomalyElement(sequence, real_threshold, transition_matrix))\n",
        "    return df_anomaly"
      ],
      "execution_count": 0,
      "outputs": []
    },
    {
      "metadata": {
        "id": "gOSoASlGww3Z",
        "colab_type": "code",
        "outputId": "364a4354-9338-4e0e-fbb6-9b91998de03c",
        "colab": {
          "base_uri": "https://localhost:8080/",
          "height": 34
        }
      },
      "cell_type": "code",
      "source": [
        "df = "
      ],
      "execution_count": 0,
      "outputs": [
        {
          "output_type": "execute_result",
          "data": {
            "text/plain": [
              "(2542, 3)"
            ]
          },
          "metadata": {
            "tags": []
          },
          "execution_count": 90
        }
      ]
    },
    {
      "metadata": {
        "id": "vuUjLfTYrBJn",
        "colab_type": "code",
        "outputId": "ecea4026-32e5-49b3-d229-13de89bebdff",
        "colab": {
          "base_uri": "https://localhost:8080/",
          "height": 105
        }
      },
      "cell_type": "code",
      "source": [
        "# data = df[['Flow','SupplyWaterPressure','SupplyWaterTemperature']]\n",
        "scaler = StandardScaler()\n",
        "np_scaled = scaler.fit_transform(X)\n",
        "data = pd.DataFrame(np_scaled)\n",
        "# train isolation forest\n",
        "outliers_fraction = 0.01\n",
        "model =  IsolationForest(contamination=outliers_fraction)\n",
        "model.fit(data) \n",
        "df['anomaly1'] = pd.Series(model.predict(data))"
      ],
      "execution_count": 0,
      "outputs": [
        {
          "output_type": "stream",
          "text": [
            "/usr/local/lib/python3.6/dist-packages/sklearn/ensemble/iforest.py:223: FutureWarning: behaviour=\"old\" is deprecated and will be removed in version 0.22. Please use behaviour=\"new\", which makes the decision_function change to match other anomaly detection algorithm API.\n",
            "  FutureWarning)\n",
            "/usr/local/lib/python3.6/dist-packages/sklearn/ensemble/iforest.py:417: DeprecationWarning: threshold_ attribute is deprecated in 0.20 and will be removed in 0.22.\n",
            "  \" be removed in 0.22.\", DeprecationWarning)\n"
          ],
          "name": "stderr"
        }
      ]
    },
    {
      "metadata": {
        "id": "VtKTXeLxsl1_",
        "colab_type": "code",
        "outputId": "3398818f-01c6-49de-8acd-b1c63c0bb9e3",
        "colab": {
          "base_uri": "https://localhost:8080/",
          "height": 391
        }
      },
      "cell_type": "code",
      "source": [
        "# visualization\n",
        "fig, ax = plt.subplots(figsize=(10,6))\n",
        "df['date_time_int'] = df.index.astype(np.int64)\n",
        "\n",
        "a = df.loc[df['anomaly1'] == -1, ['date_time_int', 'Flow']] #anomaly\n",
        "\n",
        "ax.plot(df['date_time_int'], df['Flow'], color='blue', label = 'Normal')\n",
        "ax.scatter(a['date_time_int'],a['Flow'], color='red', label = 'Anomaly')\n",
        "plt.legend()\n",
        "plt.show();"
      ],
      "execution_count": 0,
      "outputs": [
        {
          "output_type": "display_data",
          "data": {
            "image/png": "[encoded data removed]",
            "text/plain": [
              "<Figure size 720x432 with 1 Axes>"
            ]
          },
          "metadata": {
            "tags": []
          }
        }
      ]
    },
    {
      "metadata": {
        "id": "YKWEUEa5qcJf",
        "colab_type": "code",
        "colab": {}
      },
      "cell_type": "code",
      "source": [
        "# data = marchdf[['price_usd', 'srch_booking_window', 'srch_saturday_night_bool']]\n",
        "scaler = StandardScaler()\n",
        "np_scaled = scaler.fit_transform(X)\n",
        "data = pd.DataFrame(np_scaled)\n",
        "# train oneclassSVM \n",
        "model = OneClassSVM(nu=outliers_fraction, kernel=\"rbf\", gamma=0.01)\n",
        "model.fit(data)\n",
        "df['anomaly2'] = pd.Series(model.predict(data))\n",
        "\n"
      ],
      "execution_count": 0,
      "outputs": []
    },
    {
      "metadata": {
        "id": "JaMuu_5J12oW",
        "colab_type": "code",
        "outputId": "3beee0a5-5711-410f-975d-b4d880e4b9b1",
        "colab": {
          "base_uri": "https://localhost:8080/",
          "height": 391
        }
      },
      "cell_type": "code",
      "source": [
        "fig, ax = plt.subplots(figsize=(10,6))\n",
        "a = df.loc[df['anomaly2'] == -1, ['date_time_int', 'Flow']] #anomaly\n",
        "\n",
        "ax.plot(df['date_time_int'], df['Flow'], color='blue')\n",
        "ax.scatter(a['date_time_int'],a['Flow'], color='red')\n",
        "plt.show();"
      ],
      "execution_count": 0,
      "outputs": [
        {
          "output_type": "display_data",
          "data": {
            "image/png": "[encoded data removed]",
            "text/plain": [
              "<Figure size 720x432 with 1 Axes>"
            ]
          },
          "metadata": {
            "tags": []
          }
        }
      ]
    }
  ]
}